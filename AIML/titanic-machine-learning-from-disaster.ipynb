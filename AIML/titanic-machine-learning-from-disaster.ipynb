{
 "cells": [
  {
   "cell_type": "code",
   "execution_count": 1,
   "metadata": {
    "_cell_guid": "b1076dfc-b9ad-4769-8c92-a6c4dae69d19",
    "_uuid": "8f2839f25d086af736a60e9eeb907d3b93b6e0e5"
   },
   "outputs": [
    {
     "name": "stdout",
     "output_type": "stream",
     "text": [
      "/kaggle/input/titanic/train.csv\n",
      "/kaggle/input/titanic/gender_submission.csv\n",
      "/kaggle/input/titanic/test.csv\n"
     ]
    }
   ],
   "source": [
    "# This Python 3 environment comes with many helpful analytics libraries installed\n",
    "# It is defined by the kaggle/python Docker image: https://github.com/kaggle/docker-python\n",
    "# For example, here's several helpful packages to load\n",
    "\n",
    "import numpy as np # linear algebra\n",
    "import pandas as pd # data processing, CSV file I/O (e.g. pd.read_csv)\n",
    "\n",
    "# Input data files are available in the read-only \"../input/\" directory\n",
    "# For example, running this (by clicking run or pressing Shift+Enter) will list all files under the input directory\n",
    "\n",
    "import os\n",
    "for dirname, _, filenames in os.walk('/kaggle/input'):\n",
    "    for filename in filenames:\n",
    "        print(os.path.join(dirname, filename))\n",
    "\n",
    "# You can write up to 5GB to the current directory (/kaggle/working/) that gets preserved as output when you create a version using \"Save & Run All\" \n",
    "# You can also write temporary files to /kaggle/temp/, but they won't be saved outside of the current session"
   ]
  },
  {
   "cell_type": "code",
   "execution_count": 2,
   "metadata": {
    "_cell_guid": "79c7e3d0-c299-4dcb-8224-4455121ee9b0",
    "_uuid": "d629ff2d2480ee46fbb7e2d37f6b5fab8052498a"
   },
   "outputs": [],
   "source": [
    "import seaborn as sns\n",
    "import matplotlib.pyplot as matplot\n",
    "\n",
    "from matplotlib import pyplot as plt\n",
    "from matplotlib.pyplot import show\n",
    "from sklearn import metrics\n",
    "from sklearn.model_selection import train_test_split\n",
    "from scipy.stats import zscore\n",
    "from sklearn.neighbors import KNeighborsClassifier\n",
    "from sklearn.linear_model import LogisticRegression\n",
    "from sklearn.model_selection import GridSearchCV\n",
    "from mlxtend.feature_selection import SequentialFeatureSelector as sfs\n",
    "\n",
    "\n",
    "pd.set_option(\"display.max_rows\",None)\n",
    "pd.set_option(\"display.max_columns\",None)"
   ]
  },
  {
   "cell_type": "code",
   "execution_count": 3,
   "metadata": {},
   "outputs": [],
   "source": [
    "train_df = pd.read_csv(\"/kaggle/input/titanic/train.csv\")\n",
    "sub_df=pd.read_csv(\"/kaggle/input/titanic/gender_submission.csv\")\n",
    "test_df=pd.read_csv(\"/kaggle/input/titanic/test.csv\")"
   ]
  },
  {
   "cell_type": "code",
   "execution_count": 4,
   "metadata": {},
   "outputs": [
    {
     "data": {
      "text/html": [
       "<div>\n",
       "<style scoped>\n",
       "    .dataframe tbody tr th:only-of-type {\n",
       "        vertical-align: middle;\n",
       "    }\n",
       "\n",
       "    .dataframe tbody tr th {\n",
       "        vertical-align: top;\n",
       "    }\n",
       "\n",
       "    .dataframe thead th {\n",
       "        text-align: right;\n",
       "    }\n",
       "</style>\n",
       "<table border=\"1\" class=\"dataframe\">\n",
       "  <thead>\n",
       "    <tr style=\"text-align: right;\">\n",
       "      <th></th>\n",
       "      <th>PassengerId</th>\n",
       "      <th>Survived</th>\n",
       "      <th>Pclass</th>\n",
       "      <th>Name</th>\n",
       "      <th>Sex</th>\n",
       "      <th>Age</th>\n",
       "      <th>SibSp</th>\n",
       "      <th>Parch</th>\n",
       "      <th>Ticket</th>\n",
       "      <th>Fare</th>\n",
       "      <th>Cabin</th>\n",
       "      <th>Embarked</th>\n",
       "    </tr>\n",
       "  </thead>\n",
       "  <tbody>\n",
       "    <tr>\n",
       "      <th>0</th>\n",
       "      <td>1</td>\n",
       "      <td>0</td>\n",
       "      <td>3</td>\n",
       "      <td>Braund, Mr. Owen Harris</td>\n",
       "      <td>male</td>\n",
       "      <td>22.0</td>\n",
       "      <td>1</td>\n",
       "      <td>0</td>\n",
       "      <td>A/5 21171</td>\n",
       "      <td>7.2500</td>\n",
       "      <td>NaN</td>\n",
       "      <td>S</td>\n",
       "    </tr>\n",
       "    <tr>\n",
       "      <th>1</th>\n",
       "      <td>2</td>\n",
       "      <td>1</td>\n",
       "      <td>1</td>\n",
       "      <td>Cumings, Mrs. John Bradley (Florence Briggs Th...</td>\n",
       "      <td>female</td>\n",
       "      <td>38.0</td>\n",
       "      <td>1</td>\n",
       "      <td>0</td>\n",
       "      <td>PC 17599</td>\n",
       "      <td>71.2833</td>\n",
       "      <td>C85</td>\n",
       "      <td>C</td>\n",
       "    </tr>\n",
       "    <tr>\n",
       "      <th>2</th>\n",
       "      <td>3</td>\n",
       "      <td>1</td>\n",
       "      <td>3</td>\n",
       "      <td>Heikkinen, Miss. Laina</td>\n",
       "      <td>female</td>\n",
       "      <td>26.0</td>\n",
       "      <td>0</td>\n",
       "      <td>0</td>\n",
       "      <td>STON/O2. 3101282</td>\n",
       "      <td>7.9250</td>\n",
       "      <td>NaN</td>\n",
       "      <td>S</td>\n",
       "    </tr>\n",
       "    <tr>\n",
       "      <th>3</th>\n",
       "      <td>4</td>\n",
       "      <td>1</td>\n",
       "      <td>1</td>\n",
       "      <td>Futrelle, Mrs. Jacques Heath (Lily May Peel)</td>\n",
       "      <td>female</td>\n",
       "      <td>35.0</td>\n",
       "      <td>1</td>\n",
       "      <td>0</td>\n",
       "      <td>113803</td>\n",
       "      <td>53.1000</td>\n",
       "      <td>C123</td>\n",
       "      <td>S</td>\n",
       "    </tr>\n",
       "    <tr>\n",
       "      <th>4</th>\n",
       "      <td>5</td>\n",
       "      <td>0</td>\n",
       "      <td>3</td>\n",
       "      <td>Allen, Mr. William Henry</td>\n",
       "      <td>male</td>\n",
       "      <td>35.0</td>\n",
       "      <td>0</td>\n",
       "      <td>0</td>\n",
       "      <td>373450</td>\n",
       "      <td>8.0500</td>\n",
       "      <td>NaN</td>\n",
       "      <td>S</td>\n",
       "    </tr>\n",
       "  </tbody>\n",
       "</table>\n",
       "</div>"
      ],
      "text/plain": [
       "   PassengerId  Survived  Pclass  \\\n",
       "0            1         0       3   \n",
       "1            2         1       1   \n",
       "2            3         1       3   \n",
       "3            4         1       1   \n",
       "4            5         0       3   \n",
       "\n",
       "                                                Name     Sex   Age  SibSp  \\\n",
       "0                            Braund, Mr. Owen Harris    male  22.0      1   \n",
       "1  Cumings, Mrs. John Bradley (Florence Briggs Th...  female  38.0      1   \n",
       "2                             Heikkinen, Miss. Laina  female  26.0      0   \n",
       "3       Futrelle, Mrs. Jacques Heath (Lily May Peel)  female  35.0      1   \n",
       "4                           Allen, Mr. William Henry    male  35.0      0   \n",
       "\n",
       "   Parch            Ticket     Fare Cabin Embarked  \n",
       "0      0         A/5 21171   7.2500   NaN        S  \n",
       "1      0          PC 17599  71.2833   C85        C  \n",
       "2      0  STON/O2. 3101282   7.9250   NaN        S  \n",
       "3      0            113803  53.1000  C123        S  \n",
       "4      0            373450   8.0500   NaN        S  "
      ]
     },
     "execution_count": 4,
     "metadata": {},
     "output_type": "execute_result"
    }
   ],
   "source": [
    "train_df.head()"
   ]
  },
  {
   "cell_type": "code",
   "execution_count": 5,
   "metadata": {},
   "outputs": [
    {
     "data": {
      "text/plain": [
       "PassengerId      int64\n",
       "Survived         int64\n",
       "Pclass           int64\n",
       "Name            object\n",
       "Sex             object\n",
       "Age            float64\n",
       "SibSp            int64\n",
       "Parch            int64\n",
       "Ticket          object\n",
       "Fare           float64\n",
       "Cabin           object\n",
       "Embarked        object\n",
       "dtype: object"
      ]
     },
     "execution_count": 5,
     "metadata": {},
     "output_type": "execute_result"
    }
   ],
   "source": [
    "train_df.dtypes"
   ]
  },
  {
   "cell_type": "code",
   "execution_count": 6,
   "metadata": {},
   "outputs": [
    {
     "data": {
      "text/html": [
       "<div>\n",
       "<style scoped>\n",
       "    .dataframe tbody tr th:only-of-type {\n",
       "        vertical-align: middle;\n",
       "    }\n",
       "\n",
       "    .dataframe tbody tr th {\n",
       "        vertical-align: top;\n",
       "    }\n",
       "\n",
       "    .dataframe thead th {\n",
       "        text-align: right;\n",
       "    }\n",
       "</style>\n",
       "<table border=\"1\" class=\"dataframe\">\n",
       "  <thead>\n",
       "    <tr style=\"text-align: right;\">\n",
       "      <th></th>\n",
       "      <th>PassengerId</th>\n",
       "      <th>Pclass</th>\n",
       "      <th>Name</th>\n",
       "      <th>Sex</th>\n",
       "      <th>Age</th>\n",
       "      <th>SibSp</th>\n",
       "      <th>Parch</th>\n",
       "      <th>Ticket</th>\n",
       "      <th>Fare</th>\n",
       "      <th>Cabin</th>\n",
       "      <th>Embarked</th>\n",
       "    </tr>\n",
       "  </thead>\n",
       "  <tbody>\n",
       "    <tr>\n",
       "      <th>0</th>\n",
       "      <td>892</td>\n",
       "      <td>3</td>\n",
       "      <td>Kelly, Mr. James</td>\n",
       "      <td>male</td>\n",
       "      <td>34.5</td>\n",
       "      <td>0</td>\n",
       "      <td>0</td>\n",
       "      <td>330911</td>\n",
       "      <td>7.8292</td>\n",
       "      <td>NaN</td>\n",
       "      <td>Q</td>\n",
       "    </tr>\n",
       "    <tr>\n",
       "      <th>1</th>\n",
       "      <td>893</td>\n",
       "      <td>3</td>\n",
       "      <td>Wilkes, Mrs. James (Ellen Needs)</td>\n",
       "      <td>female</td>\n",
       "      <td>47.0</td>\n",
       "      <td>1</td>\n",
       "      <td>0</td>\n",
       "      <td>363272</td>\n",
       "      <td>7.0000</td>\n",
       "      <td>NaN</td>\n",
       "      <td>S</td>\n",
       "    </tr>\n",
       "    <tr>\n",
       "      <th>2</th>\n",
       "      <td>894</td>\n",
       "      <td>2</td>\n",
       "      <td>Myles, Mr. Thomas Francis</td>\n",
       "      <td>male</td>\n",
       "      <td>62.0</td>\n",
       "      <td>0</td>\n",
       "      <td>0</td>\n",
       "      <td>240276</td>\n",
       "      <td>9.6875</td>\n",
       "      <td>NaN</td>\n",
       "      <td>Q</td>\n",
       "    </tr>\n",
       "    <tr>\n",
       "      <th>3</th>\n",
       "      <td>895</td>\n",
       "      <td>3</td>\n",
       "      <td>Wirz, Mr. Albert</td>\n",
       "      <td>male</td>\n",
       "      <td>27.0</td>\n",
       "      <td>0</td>\n",
       "      <td>0</td>\n",
       "      <td>315154</td>\n",
       "      <td>8.6625</td>\n",
       "      <td>NaN</td>\n",
       "      <td>S</td>\n",
       "    </tr>\n",
       "    <tr>\n",
       "      <th>4</th>\n",
       "      <td>896</td>\n",
       "      <td>3</td>\n",
       "      <td>Hirvonen, Mrs. Alexander (Helga E Lindqvist)</td>\n",
       "      <td>female</td>\n",
       "      <td>22.0</td>\n",
       "      <td>1</td>\n",
       "      <td>1</td>\n",
       "      <td>3101298</td>\n",
       "      <td>12.2875</td>\n",
       "      <td>NaN</td>\n",
       "      <td>S</td>\n",
       "    </tr>\n",
       "  </tbody>\n",
       "</table>\n",
       "</div>"
      ],
      "text/plain": [
       "   PassengerId  Pclass                                          Name     Sex  \\\n",
       "0          892       3                              Kelly, Mr. James    male   \n",
       "1          893       3              Wilkes, Mrs. James (Ellen Needs)  female   \n",
       "2          894       2                     Myles, Mr. Thomas Francis    male   \n",
       "3          895       3                              Wirz, Mr. Albert    male   \n",
       "4          896       3  Hirvonen, Mrs. Alexander (Helga E Lindqvist)  female   \n",
       "\n",
       "    Age  SibSp  Parch   Ticket     Fare Cabin Embarked  \n",
       "0  34.5      0      0   330911   7.8292   NaN        Q  \n",
       "1  47.0      1      0   363272   7.0000   NaN        S  \n",
       "2  62.0      0      0   240276   9.6875   NaN        Q  \n",
       "3  27.0      0      0   315154   8.6625   NaN        S  \n",
       "4  22.0      1      1  3101298  12.2875   NaN        S  "
      ]
     },
     "execution_count": 6,
     "metadata": {},
     "output_type": "execute_result"
    }
   ],
   "source": [
    "test_df.head()"
   ]
  },
  {
   "cell_type": "code",
   "execution_count": 7,
   "metadata": {},
   "outputs": [
    {
     "name": "stdout",
     "output_type": "stream",
     "text": [
      "(891, 12)\n",
      "(418, 11)\n"
     ]
    }
   ],
   "source": [
    "print(train_df.shape)\n",
    "print(test_df.shape)\n"
   ]
  },
  {
   "cell_type": "markdown",
   "execution_count": null,
   "metadata": {},
   "source": [
    "The training dataset has 891 records and test_df has 418 records. The test dataset has 1 column in short since the target column is excluded"
   ]
  },
  {
   "cell_type": "code",
   "execution_count": 8,
   "metadata": {},
   "outputs": [
    {
     "data": {
      "text/plain": [
       "PassengerId      0\n",
       "Survived         0\n",
       "Pclass           0\n",
       "Name             0\n",
       "Sex              0\n",
       "Age            177\n",
       "SibSp            0\n",
       "Parch            0\n",
       "Ticket           0\n",
       "Fare             0\n",
       "Cabin          687\n",
       "Embarked         2\n",
       "dtype: int64"
      ]
     },
     "execution_count": 8,
     "metadata": {},
     "output_type": "execute_result"
    }
   ],
   "source": [
    "# Checking for null values\n",
    "train_df.isnull().sum()"
   ]
  },
  {
   "cell_type": "code",
   "execution_count": 9,
   "metadata": {},
   "outputs": [
    {
     "data": {
      "text/plain": [
       "PassengerId      0\n",
       "Pclass           0\n",
       "Name             0\n",
       "Sex              0\n",
       "Age             86\n",
       "SibSp            0\n",
       "Parch            0\n",
       "Ticket           0\n",
       "Fare             1\n",
       "Cabin          327\n",
       "Embarked         0\n",
       "dtype: int64"
      ]
     },
     "execution_count": 9,
     "metadata": {},
     "output_type": "execute_result"
    }
   ],
   "source": [
    "test_df.isnull().sum()"
   ]
  },
  {
   "cell_type": "markdown",
   "execution_count": null,
   "metadata": {},
   "source": [
    "The column Cabin has more than 70% of the records with null values in both train and test dataset\n",
    "Imputing this column will not be helpful, so deleting this column"
   ]
  },
  {
   "cell_type": "code",
   "execution_count": 10,
   "metadata": {},
   "outputs": [],
   "source": [
    "train_df.drop(\"Cabin\",axis=1,inplace=True)\n",
    "test_df.drop(\"Cabin\",axis=1,inplace=True)\n"
   ]
  },
  {
   "cell_type": "markdown",
   "execution_count": null,
   "metadata": {},
   "source": [
    "The age and Embarked columns has null values in training dataset which needs to be imputed. \n",
    "Similarly Age and Fare dataset has null values. "
   ]
  },
  {
   "cell_type": "code",
   "execution_count": 11,
   "metadata": {},
   "outputs": [
    {
     "data": {
      "text/html": [
       "<div>\n",
       "<style scoped>\n",
       "    .dataframe tbody tr th:only-of-type {\n",
       "        vertical-align: middle;\n",
       "    }\n",
       "\n",
       "    .dataframe tbody tr th {\n",
       "        vertical-align: top;\n",
       "    }\n",
       "\n",
       "    .dataframe thead th {\n",
       "        text-align: right;\n",
       "    }\n",
       "</style>\n",
       "<table border=\"1\" class=\"dataframe\">\n",
       "  <thead>\n",
       "    <tr style=\"text-align: right;\">\n",
       "      <th></th>\n",
       "      <th>PassengerId</th>\n",
       "      <th>Survived</th>\n",
       "      <th>Pclass</th>\n",
       "      <th>Name</th>\n",
       "      <th>Sex</th>\n",
       "      <th>Age</th>\n",
       "      <th>SibSp</th>\n",
       "      <th>Parch</th>\n",
       "      <th>Ticket</th>\n",
       "      <th>Fare</th>\n",
       "      <th>Embarked</th>\n",
       "    </tr>\n",
       "  </thead>\n",
       "  <tbody>\n",
       "    <tr>\n",
       "      <th>61</th>\n",
       "      <td>62</td>\n",
       "      <td>1</td>\n",
       "      <td>1</td>\n",
       "      <td>Icard, Miss. Amelie</td>\n",
       "      <td>female</td>\n",
       "      <td>38.0</td>\n",
       "      <td>0</td>\n",
       "      <td>0</td>\n",
       "      <td>113572</td>\n",
       "      <td>80.0</td>\n",
       "      <td>NaN</td>\n",
       "    </tr>\n",
       "    <tr>\n",
       "      <th>829</th>\n",
       "      <td>830</td>\n",
       "      <td>1</td>\n",
       "      <td>1</td>\n",
       "      <td>Stone, Mrs. George Nelson (Martha Evelyn)</td>\n",
       "      <td>female</td>\n",
       "      <td>62.0</td>\n",
       "      <td>0</td>\n",
       "      <td>0</td>\n",
       "      <td>113572</td>\n",
       "      <td>80.0</td>\n",
       "      <td>NaN</td>\n",
       "    </tr>\n",
       "  </tbody>\n",
       "</table>\n",
       "</div>"
      ],
      "text/plain": [
       "     PassengerId  Survived  Pclass                                       Name  \\\n",
       "61            62         1       1                        Icard, Miss. Amelie   \n",
       "829          830         1       1  Stone, Mrs. George Nelson (Martha Evelyn)   \n",
       "\n",
       "        Sex   Age  SibSp  Parch  Ticket  Fare Embarked  \n",
       "61   female  38.0      0      0  113572  80.0      NaN  \n",
       "829  female  62.0      0      0  113572  80.0      NaN  "
      ]
     },
     "execution_count": 11,
     "metadata": {},
     "output_type": "execute_result"
    }
   ],
   "source": [
    "train_df[train_df['Embarked'].isnull()]"
   ]
  },
  {
   "cell_type": "markdown",
   "execution_count": null,
   "metadata": {},
   "source": [
    "Both the records belong to same ticket, which means they are travelling together and we can see they were in class 1. \n",
    "imputing the column with most repeated value using mode."
   ]
  },
  {
   "cell_type": "code",
   "execution_count": 12,
   "metadata": {},
   "outputs": [],
   "source": [
    "train_df['Embarked'].fillna(train_df['Embarked'].mode()[0],inplace=True)"
   ]
  },
  {
   "cell_type": "code",
   "execution_count": 13,
   "metadata": {},
   "outputs": [],
   "source": [
    "train_df['Age'].fillna(train_df['Age'].median(),inplace=True) # imputing with mdeian as there are some outlier, since only few people have travelled whose age is close to eighty. using mean will not be suitable"
   ]
  },
  {
   "cell_type": "code",
   "execution_count": 14,
   "metadata": {},
   "outputs": [],
   "source": [
    "test_df['Age'].fillna(test_df['Age'].median(),inplace=True) # imputing with mdeian as there are some outlier, since only few people have travelled whose age is close to eighty. using mean will not be suitable"
   ]
  },
  {
   "cell_type": "markdown",
   "execution_count": null,
   "metadata": {},
   "source": [
    "We can remove the columns id and Name as it will not be helpful for our analysis "
   ]
  },
  {
   "cell_type": "code",
   "execution_count": 15,
   "metadata": {},
   "outputs": [],
   "source": [
    "train_df.drop(['Name'],axis=1,inplace=True)\n",
    "test_df.drop(['Name'],axis=1,inplace=True)"
   ]
  },
  {
   "cell_type": "code",
   "execution_count": 16,
   "metadata": {},
   "outputs": [
    {
     "data": {
      "text/html": [
       "<div>\n",
       "<style scoped>\n",
       "    .dataframe tbody tr th:only-of-type {\n",
       "        vertical-align: middle;\n",
       "    }\n",
       "\n",
       "    .dataframe tbody tr th {\n",
       "        vertical-align: top;\n",
       "    }\n",
       "\n",
       "    .dataframe thead th {\n",
       "        text-align: right;\n",
       "    }\n",
       "</style>\n",
       "<table border=\"1\" class=\"dataframe\">\n",
       "  <thead>\n",
       "    <tr style=\"text-align: right;\">\n",
       "      <th></th>\n",
       "      <th>count</th>\n",
       "      <th>mean</th>\n",
       "      <th>std</th>\n",
       "      <th>min</th>\n",
       "      <th>25%</th>\n",
       "      <th>50%</th>\n",
       "      <th>75%</th>\n",
       "      <th>max</th>\n",
       "    </tr>\n",
       "  </thead>\n",
       "  <tbody>\n",
       "    <tr>\n",
       "      <th>PassengerId</th>\n",
       "      <td>891.0</td>\n",
       "      <td>446.000000</td>\n",
       "      <td>257.353842</td>\n",
       "      <td>1.00</td>\n",
       "      <td>223.5000</td>\n",
       "      <td>446.0000</td>\n",
       "      <td>668.5</td>\n",
       "      <td>891.0000</td>\n",
       "    </tr>\n",
       "    <tr>\n",
       "      <th>Survived</th>\n",
       "      <td>891.0</td>\n",
       "      <td>0.383838</td>\n",
       "      <td>0.486592</td>\n",
       "      <td>0.00</td>\n",
       "      <td>0.0000</td>\n",
       "      <td>0.0000</td>\n",
       "      <td>1.0</td>\n",
       "      <td>1.0000</td>\n",
       "    </tr>\n",
       "    <tr>\n",
       "      <th>Pclass</th>\n",
       "      <td>891.0</td>\n",
       "      <td>2.308642</td>\n",
       "      <td>0.836071</td>\n",
       "      <td>1.00</td>\n",
       "      <td>2.0000</td>\n",
       "      <td>3.0000</td>\n",
       "      <td>3.0</td>\n",
       "      <td>3.0000</td>\n",
       "    </tr>\n",
       "    <tr>\n",
       "      <th>Age</th>\n",
       "      <td>891.0</td>\n",
       "      <td>29.361582</td>\n",
       "      <td>13.019697</td>\n",
       "      <td>0.42</td>\n",
       "      <td>22.0000</td>\n",
       "      <td>28.0000</td>\n",
       "      <td>35.0</td>\n",
       "      <td>80.0000</td>\n",
       "    </tr>\n",
       "    <tr>\n",
       "      <th>SibSp</th>\n",
       "      <td>891.0</td>\n",
       "      <td>0.523008</td>\n",
       "      <td>1.102743</td>\n",
       "      <td>0.00</td>\n",
       "      <td>0.0000</td>\n",
       "      <td>0.0000</td>\n",
       "      <td>1.0</td>\n",
       "      <td>8.0000</td>\n",
       "    </tr>\n",
       "    <tr>\n",
       "      <th>Parch</th>\n",
       "      <td>891.0</td>\n",
       "      <td>0.381594</td>\n",
       "      <td>0.806057</td>\n",
       "      <td>0.00</td>\n",
       "      <td>0.0000</td>\n",
       "      <td>0.0000</td>\n",
       "      <td>0.0</td>\n",
       "      <td>6.0000</td>\n",
       "    </tr>\n",
       "    <tr>\n",
       "      <th>Fare</th>\n",
       "      <td>891.0</td>\n",
       "      <td>32.204208</td>\n",
       "      <td>49.693429</td>\n",
       "      <td>0.00</td>\n",
       "      <td>7.9104</td>\n",
       "      <td>14.4542</td>\n",
       "      <td>31.0</td>\n",
       "      <td>512.3292</td>\n",
       "    </tr>\n",
       "  </tbody>\n",
       "</table>\n",
       "</div>"
      ],
      "text/plain": [
       "             count        mean         std   min       25%       50%    75%  \\\n",
       "PassengerId  891.0  446.000000  257.353842  1.00  223.5000  446.0000  668.5   \n",
       "Survived     891.0    0.383838    0.486592  0.00    0.0000    0.0000    1.0   \n",
       "Pclass       891.0    2.308642    0.836071  1.00    2.0000    3.0000    3.0   \n",
       "Age          891.0   29.361582   13.019697  0.42   22.0000   28.0000   35.0   \n",
       "SibSp        891.0    0.523008    1.102743  0.00    0.0000    0.0000    1.0   \n",
       "Parch        891.0    0.381594    0.806057  0.00    0.0000    0.0000    0.0   \n",
       "Fare         891.0   32.204208   49.693429  0.00    7.9104   14.4542   31.0   \n",
       "\n",
       "                  max  \n",
       "PassengerId  891.0000  \n",
       "Survived       1.0000  \n",
       "Pclass         3.0000  \n",
       "Age           80.0000  \n",
       "SibSp          8.0000  \n",
       "Parch          6.0000  \n",
       "Fare         512.3292  "
      ]
     },
     "execution_count": 16,
     "metadata": {},
     "output_type": "execute_result"
    }
   ],
   "source": [
    "train_df.describe().transpose()"
   ]
  },
  {
   "cell_type": "code",
   "execution_count": 17,
   "metadata": {},
   "outputs": [],
   "source": [
    "#sns.pairplot(train_df,hue='Survived')"
   ]
  },
  {
   "cell_type": "markdown",
   "execution_count": null,
   "metadata": {},
   "source": [
    "Univariant analysis, Bivariant and multivariant analysis"
   ]
  },
  {
   "cell_type": "code",
   "execution_count": 18,
   "metadata": {},
   "outputs": [
    {
     "data": {
      "image/png": "[encoded data removed]",
      "text/plain": [
       "<Figure size 432x288 with 1 Axes>"
      ]
     },
     "metadata": {
      "needs_background": "light"
     },
     "output_type": "display_data"
    }
   ],
   "source": [
    "\n",
    "total = float(len(train_df))\n",
    "ax = sns.countplot(train_df['Survived']) # for Seaborn version 0.7 and more\n",
    "for p in ax.patches:\n",
    "    height = p.get_height()\n",
    "    ax.text(p.get_x()+p.get_width()/2.,\n",
    "            height + 3,\n",
    "            '{:1.2f}'.format((height/total)*100),\n",
    "            ha=\"center\") \n",
    "show()"
   ]
  },
  {
   "cell_type": "markdown",
   "execution_count": null,
   "metadata": {},
   "source": [
    "The graph above shows only 38.38% of people have survided"
   ]
  },
  {
   "cell_type": "code",
   "execution_count": 19,
   "metadata": {},
   "outputs": [
    {
     "data": {
      "image/png": "[encoded data removed]",
      "text/plain": [
       "<Figure size 432x288 with 1 Axes>"
      ]
     },
     "metadata": {
      "needs_background": "light"
     },
     "output_type": "display_data"
    }
   ],
   "source": [
    "total = float(len(train_df))\n",
    "ax = sns.countplot(train_df['Pclass']) # for Seaborn version 0.7 and more\n",
    "for p in ax.patches:\n",
    "    height = p.get_height()\n",
    "    ax.text(p.get_x()+p.get_width()/2.,\n",
    "            height + 3,\n",
    "            '{:1.2f}'.format((height/total)*100),\n",
    "            ha=\"center\") \n",
    "show()"
   ]
  },
  {
   "cell_type": "markdown",
   "execution_count": null,
   "metadata": {},
   "source": [
    "The graph above shows more than 50 percentage of the people have travelled in class 3"
   ]
  },
  {
   "cell_type": "code",
   "execution_count": 20,
   "metadata": {},
   "outputs": [
    {
     "data": {
      "text/plain": [
       "<matplotlib.axes._subplots.AxesSubplot at 0x7fd5cfd93310>"
      ]
     },
     "execution_count": 20,
     "metadata": {},
     "output_type": "execute_result"
    },
    {
     "data": {
      "image/png": "[encoded data removed]",
      "text/plain": [
       "<Figure size 432x288 with 1 Axes>"
      ]
     },
     "metadata": {
      "needs_background": "light"
     },
     "output_type": "display_data"
    }
   ],
   "source": [
    "sns.distplot(train_df['Age'])"
   ]
  },
  {
   "cell_type": "markdown",
   "execution_count": null,
   "metadata": {},
   "source": [
    "The distribution plot shows that the majority of the people were in the age group 20 to 40. "
   ]
  },
  {
   "cell_type": "code",
   "execution_count": 21,
   "metadata": {},
   "outputs": [
    {
     "data": {
      "image/png": "[encoded data removed]",
      "text/plain": [
       "<Figure size 432x288 with 1 Axes>"
      ]
     },
     "metadata": {
      "needs_background": "light"
     },
     "output_type": "display_data"
    }
   ],
   "source": [
    "total = float(len(train_df))\n",
    "ax = sns.countplot(train_df['Sex']) # for Seaborn version 0.7 and more\n",
    "for p in ax.patches:\n",
    "    height = p.get_height()\n",
    "    ax.text(p.get_x()+p.get_width()/2.,\n",
    "            height + 3,\n",
    "            '{:1.2f}'.format((height/total)*100),\n",
    "            ha=\"center\") \n",
    "show()"
   ]
  },
  {
   "cell_type": "markdown",
   "execution_count": null,
   "metadata": {},
   "source": [
    "In the total passenger 64.76% were male and 35.24% people were female. "
   ]
  },
  {
   "cell_type": "code",
   "execution_count": 22,
   "metadata": {},
   "outputs": [
    {
     "data": {
      "image/png": "[encoded data removed]",
      "text/plain": [
       "<Figure size 432x288 with 1 Axes>"
      ]
     },
     "metadata": {
      "needs_background": "light"
     },
     "output_type": "display_data"
    }
   ],
   "source": [
    "total = float(len(train_df))\n",
    "ax = sns.countplot(train_df['Embarked']) # for Seaborn version 0.7 and more\n",
    "for p in ax.patches:\n",
    "    height = p.get_height()\n",
    "    ax.text(p.get_x()+p.get_width()/2.,\n",
    "            height + 3,\n",
    "            '{:1.2f}'.format((height/total)*100),\n",
    "            ha=\"center\") \n",
    "show()"
   ]
  },
  {
   "cell_type": "markdown",
   "execution_count": null,
   "metadata": {},
   "source": [
    "Most of the traveller(72.50%) have embarked at S "
   ]
  },
  {
   "cell_type": "code",
   "execution_count": 23,
   "metadata": {},
   "outputs": [
    {
     "data": {
      "image/png": "[encoded data removed]",
      "text/plain": [
       "<Figure size 432x288 with 1 Axes>"
      ]
     },
     "metadata": {
      "needs_background": "light"
     },
     "output_type": "display_data"
    }
   ],
   "source": [
    "total = float(len(train_df))\n",
    "ax = sns.countplot(train_df['SibSp']+train_df['Parch']) # for Seaborn version 0.7 and more\n",
    "for p in ax.patches:\n",
    "    height = p.get_height()\n",
    "    ax.text(p.get_x()+p.get_width()/2.,\n",
    "            height + 3,\n",
    "            '{:1.2f}'.format((height/total)*100),\n",
    "            ha=\"center\") \n",
    "show()"
   ]
  },
  {
   "cell_type": "markdown",
   "execution_count": null,
   "metadata": {},
   "source": [
    "60% of the people have travelled alone. This cannot be exact number as mentione in the data description children who have travelled with their nanny Parch is mentioned as 0. But we can say that a majority of the people have travelled alone."
   ]
  },
  {
   "cell_type": "code",
   "execution_count": 24,
   "metadata": {},
   "outputs": [
    {
     "data": {
      "text/plain": [
       "<matplotlib.axes._subplots.AxesSubplot at 0x7fd5cfdd3a50>"
      ]
     },
     "execution_count": 24,
     "metadata": {},
     "output_type": "execute_result"
    },
    {
     "data": {
      "image/png": "[encoded data removed]",
      "text/plain": [
       "<Figure size 432x288 with 1 Axes>"
      ]
     },
     "metadata": {
      "needs_background": "light"
     },
     "output_type": "display_data"
    }
   ],
   "source": [
    "sns.distplot(train_df['Fare'])"
   ]
  },
  {
   "cell_type": "markdown",
   "execution_count": null,
   "metadata": {},
   "source": [
    "The fare column shows the same prize shows something interesting. We do have fare starting from 0 to 500. The highest probability \n",
    "for the reason for the fare to be zero is they might be the crew members of the ship and the highest fare might be due to large nummber of people travelling together, as the fare displayed is at the itinerary level. "
   ]
  },
  {
   "cell_type": "code",
   "execution_count": 25,
   "metadata": {},
   "outputs": [
    {
     "data": {
      "text/html": [
       "<div>\n",
       "<style scoped>\n",
       "    .dataframe tbody tr th:only-of-type {\n",
       "        vertical-align: middle;\n",
       "    }\n",
       "\n",
       "    .dataframe tbody tr th {\n",
       "        vertical-align: top;\n",
       "    }\n",
       "\n",
       "    .dataframe thead th {\n",
       "        text-align: right;\n",
       "    }\n",
       "</style>\n",
       "<table border=\"1\" class=\"dataframe\">\n",
       "  <thead>\n",
       "    <tr style=\"text-align: right;\">\n",
       "      <th></th>\n",
       "      <th>PassengerId</th>\n",
       "      <th>Survived</th>\n",
       "      <th>Pclass</th>\n",
       "      <th>Sex</th>\n",
       "      <th>Age</th>\n",
       "      <th>SibSp</th>\n",
       "      <th>Parch</th>\n",
       "      <th>Ticket</th>\n",
       "      <th>Fare</th>\n",
       "      <th>Embarked</th>\n",
       "    </tr>\n",
       "  </thead>\n",
       "  <tbody>\n",
       "    <tr>\n",
       "      <th>0</th>\n",
       "      <td>1</td>\n",
       "      <td>0</td>\n",
       "      <td>3</td>\n",
       "      <td>male</td>\n",
       "      <td>22.0</td>\n",
       "      <td>1</td>\n",
       "      <td>0</td>\n",
       "      <td>A/5 21171</td>\n",
       "      <td>7.2500</td>\n",
       "      <td>S</td>\n",
       "    </tr>\n",
       "    <tr>\n",
       "      <th>1</th>\n",
       "      <td>2</td>\n",
       "      <td>1</td>\n",
       "      <td>1</td>\n",
       "      <td>female</td>\n",
       "      <td>38.0</td>\n",
       "      <td>1</td>\n",
       "      <td>0</td>\n",
       "      <td>PC 17599</td>\n",
       "      <td>71.2833</td>\n",
       "      <td>C</td>\n",
       "    </tr>\n",
       "    <tr>\n",
       "      <th>2</th>\n",
       "      <td>3</td>\n",
       "      <td>1</td>\n",
       "      <td>3</td>\n",
       "      <td>female</td>\n",
       "      <td>26.0</td>\n",
       "      <td>0</td>\n",
       "      <td>0</td>\n",
       "      <td>STON/O2. 3101282</td>\n",
       "      <td>7.9250</td>\n",
       "      <td>S</td>\n",
       "    </tr>\n",
       "    <tr>\n",
       "      <th>3</th>\n",
       "      <td>4</td>\n",
       "      <td>1</td>\n",
       "      <td>1</td>\n",
       "      <td>female</td>\n",
       "      <td>35.0</td>\n",
       "      <td>1</td>\n",
       "      <td>0</td>\n",
       "      <td>113803</td>\n",
       "      <td>53.1000</td>\n",
       "      <td>S</td>\n",
       "    </tr>\n",
       "    <tr>\n",
       "      <th>4</th>\n",
       "      <td>5</td>\n",
       "      <td>0</td>\n",
       "      <td>3</td>\n",
       "      <td>male</td>\n",
       "      <td>35.0</td>\n",
       "      <td>0</td>\n",
       "      <td>0</td>\n",
       "      <td>373450</td>\n",
       "      <td>8.0500</td>\n",
       "      <td>S</td>\n",
       "    </tr>\n",
       "  </tbody>\n",
       "</table>\n",
       "</div>"
      ],
      "text/plain": [
       "   PassengerId  Survived  Pclass     Sex   Age  SibSp  Parch  \\\n",
       "0            1         0       3    male  22.0      1      0   \n",
       "1            2         1       1  female  38.0      1      0   \n",
       "2            3         1       3  female  26.0      0      0   \n",
       "3            4         1       1  female  35.0      1      0   \n",
       "4            5         0       3    male  35.0      0      0   \n",
       "\n",
       "             Ticket     Fare Embarked  \n",
       "0         A/5 21171   7.2500        S  \n",
       "1          PC 17599  71.2833        C  \n",
       "2  STON/O2. 3101282   7.9250        S  \n",
       "3            113803  53.1000        S  \n",
       "4            373450   8.0500        S  "
      ]
     },
     "execution_count": 25,
     "metadata": {},
     "output_type": "execute_result"
    }
   ],
   "source": [
    "train_df.head()"
   ]
  },
  {
   "cell_type": "code",
   "execution_count": 26,
   "metadata": {},
   "outputs": [
    {
     "data": {
      "image/png": "[encoded data removed]",
      "text/plain": [
       "<Figure size 432x288 with 1 Axes>"
      ]
     },
     "metadata": {
      "needs_background": "light"
     },
     "output_type": "display_data"
    }
   ],
   "source": [
    "sns.countplot(x='Survived',data=train_df)\n",
    "total = float(len(train_df))\n",
    "ax = sns.countplot(x='Survived',hue='Pclass',data=train_df) # for Seaborn version 0.7 and more\n",
    "for p in ax.patches:\n",
    "    height = p.get_height()\n",
    "    ax.text(p.get_x()+p.get_width()/2.,\n",
    "            height + 3,\n",
    "            '{:1.2f}'.format((height/total)*100),\n",
    "            ha=\"center\") \n",
    "show()"
   ]
  },
  {
   "cell_type": "markdown",
   "execution_count": null,
   "metadata": {},
   "source": [
    "Overall only 38.38 percentage of the travellers survived and the percentage split with respect to Pclass is shown."
   ]
  },
  {
   "cell_type": "code",
   "execution_count": 27,
   "metadata": {},
   "outputs": [
    {
     "data": {
      "image/png": "[encoded data removed]",
      "text/plain": [
       "<Figure size 1440x432 with 2 Axes>"
      ]
     },
     "metadata": {
      "needs_background": "light"
     },
     "output_type": "display_data"
    }
   ],
   "source": [
    "p_cont1 = pd.crosstab(train_df['Pclass'], train_df['Survived'], normalize='index') * 100\n",
    "p_cont1 = p_cont1.reset_index()\n",
    "p_cont1.rename(columns={0:'Dead', 1:'Survived'}, inplace=True)\n",
    "\n",
    "\n",
    "listv = []\n",
    "for var in train_df['Pclass'].unique():\n",
    "    listv.append(var)\n",
    "\n",
    "plt.figure(figsize=(20,6))\n",
    "\n",
    "ax1 = plt.subplot(121)\n",
    "\n",
    "g1= sns.countplot(x='Pclass',  data=train_df,order=listv,palette=\"Set1\")\n",
    "gt = g1.twinx()\n",
    "gt = sns.pointplot(x='Pclass', y='Survived', data=p_cont1, color='black', legend=False,order=listv)\n",
    "gt.set_ylabel(\"% of Survived\", fontsize=12)\n",
    "\n",
    "g1.set_title(\"Survival Rate Passenger class wise\", fontsize=14)\n",
    "g1.set_ylabel(\"Count\", fontsize=12)\n",
    "\n",
    "\n",
    " \n",
    "\n",
    "plt.show()"
   ]
  },
  {
   "cell_type": "markdown",
   "execution_count": null,
   "metadata": {},
   "source": [
    "The above graph shows, the survival rate is much higher in the class 1 travellers and very low for class 3"
   ]
  },
  {
   "cell_type": "code",
   "execution_count": 28,
   "metadata": {},
   "outputs": [
    {
     "data": {
      "image/png": "[encoded data removed]",
      "text/plain": [
       "<Figure size 1440x432 with 2 Axes>"
      ]
     },
     "metadata": {
      "needs_background": "light"
     },
     "output_type": "display_data"
    }
   ],
   "source": [
    "p_cont1 = pd.crosstab(train_df['Sex'], train_df['Survived'], normalize='index') * 100\n",
    "p_cont1 = p_cont1.reset_index()\n",
    "p_cont1.rename(columns={0:'Dead', 1:'Survived'}, inplace=True)\n",
    "\n",
    "\n",
    "listv = []\n",
    "for var in train_df['Sex'].unique():\n",
    "    listv.append(var)\n",
    "\n",
    "plt.figure(figsize=(20,6))\n",
    "\n",
    "ax1 = plt.subplot(121)\n",
    "\n",
    "g1= sns.countplot(x='Sex',  data=train_df,order=listv,palette=\"Set1\")\n",
    "gt = g1.twinx()\n",
    "gt = sns.pointplot(x='Sex', y='Survived', data=p_cont1, color='black', legend=False,order=listv)\n",
    "gt.set_ylabel(\"% of Survived\", fontsize=12)\n",
    "\n",
    "g1.set_title(\"Survival Rate Genderwise\", fontsize=14)\n",
    "g1.set_ylabel(\"Count\", fontsize=12)\n",
    "\n",
    "\n",
    " \n",
    "\n",
    "plt.show()"
   ]
  },
  {
   "cell_type": "markdown",
   "execution_count": null,
   "metadata": {},
   "source": [
    "The above graph shows that the number of male passengers were almost double but more than 70% of the female passengers survived whereas only 20 % of the men survived. "
   ]
  },
  {
   "cell_type": "code",
   "execution_count": 29,
   "metadata": {},
   "outputs": [
    {
     "data": {
      "image/png": "[encoded data removed]",
      "text/plain": [
       "<Figure size 1440x432 with 2 Axes>"
      ]
     },
     "metadata": {
      "needs_background": "light"
     },
     "output_type": "display_data"
    }
   ],
   "source": [
    "p_cont1 = pd.crosstab(train_df['Embarked'], train_df['Survived'], normalize='index') * 100\n",
    "p_cont1 = p_cont1.reset_index()\n",
    "p_cont1.rename(columns={0:'Dead', 1:'Survived'}, inplace=True)\n",
    "\n",
    "\n",
    "listv = []\n",
    "for var in train_df['Embarked'].unique():\n",
    "    listv.append(var)\n",
    "\n",
    "plt.figure(figsize=(20,6))\n",
    "\n",
    "ax1 = plt.subplot(121)\n",
    "\n",
    "g1= sns.countplot(x='Embarked',  data=train_df,order=listv,palette=\"Set1\")\n",
    "gt = g1.twinx()\n",
    "gt = sns.pointplot(x='Embarked', y='Survived', data=p_cont1, color='black', legend=False,order=listv)\n",
    "gt.set_ylabel(\"% of Survived\", fontsize=12)\n",
    "\n",
    "g1.set_title(\"Survival Rate based on Embarked\", fontsize=14)\n",
    "g1.set_ylabel(\"Count\", fontsize=12)\n",
    "\n",
    "\n",
    " \n",
    "\n",
    "plt.show()"
   ]
  },
  {
   "cell_type": "code",
   "execution_count": 30,
   "metadata": {},
   "outputs": [
    {
     "data": {
      "text/html": [
       "<div>\n",
       "<style scoped>\n",
       "    .dataframe tbody tr th:only-of-type {\n",
       "        vertical-align: middle;\n",
       "    }\n",
       "\n",
       "    .dataframe tbody tr th {\n",
       "        vertical-align: top;\n",
       "    }\n",
       "\n",
       "    .dataframe thead th {\n",
       "        text-align: right;\n",
       "    }\n",
       "</style>\n",
       "<table border=\"1\" class=\"dataframe\">\n",
       "  <thead>\n",
       "    <tr style=\"text-align: right;\">\n",
       "      <th></th>\n",
       "      <th>PassengerId</th>\n",
       "      <th>Survived</th>\n",
       "      <th>Pclass</th>\n",
       "      <th>Sex</th>\n",
       "      <th>Age</th>\n",
       "      <th>SibSp</th>\n",
       "      <th>Parch</th>\n",
       "      <th>Ticket</th>\n",
       "      <th>Fare</th>\n",
       "      <th>Embarked</th>\n",
       "    </tr>\n",
       "  </thead>\n",
       "  <tbody>\n",
       "    <tr>\n",
       "      <th>179</th>\n",
       "      <td>180</td>\n",
       "      <td>0</td>\n",
       "      <td>3</td>\n",
       "      <td>male</td>\n",
       "      <td>36.0</td>\n",
       "      <td>0</td>\n",
       "      <td>0</td>\n",
       "      <td>LINE</td>\n",
       "      <td>0.0</td>\n",
       "      <td>S</td>\n",
       "    </tr>\n",
       "    <tr>\n",
       "      <th>263</th>\n",
       "      <td>264</td>\n",
       "      <td>0</td>\n",
       "      <td>1</td>\n",
       "      <td>male</td>\n",
       "      <td>40.0</td>\n",
       "      <td>0</td>\n",
       "      <td>0</td>\n",
       "      <td>112059</td>\n",
       "      <td>0.0</td>\n",
       "      <td>S</td>\n",
       "    </tr>\n",
       "    <tr>\n",
       "      <th>271</th>\n",
       "      <td>272</td>\n",
       "      <td>1</td>\n",
       "      <td>3</td>\n",
       "      <td>male</td>\n",
       "      <td>25.0</td>\n",
       "      <td>0</td>\n",
       "      <td>0</td>\n",
       "      <td>LINE</td>\n",
       "      <td>0.0</td>\n",
       "      <td>S</td>\n",
       "    </tr>\n",
       "    <tr>\n",
       "      <th>277</th>\n",
       "      <td>278</td>\n",
       "      <td>0</td>\n",
       "      <td>2</td>\n",
       "      <td>male</td>\n",
       "      <td>28.0</td>\n",
       "      <td>0</td>\n",
       "      <td>0</td>\n",
       "      <td>239853</td>\n",
       "      <td>0.0</td>\n",
       "      <td>S</td>\n",
       "    </tr>\n",
       "    <tr>\n",
       "      <th>302</th>\n",
       "      <td>303</td>\n",
       "      <td>0</td>\n",
       "      <td>3</td>\n",
       "      <td>male</td>\n",
       "      <td>19.0</td>\n",
       "      <td>0</td>\n",
       "      <td>0</td>\n",
       "      <td>LINE</td>\n",
       "      <td>0.0</td>\n",
       "      <td>S</td>\n",
       "    </tr>\n",
       "    <tr>\n",
       "      <th>413</th>\n",
       "      <td>414</td>\n",
       "      <td>0</td>\n",
       "      <td>2</td>\n",
       "      <td>male</td>\n",
       "      <td>28.0</td>\n",
       "      <td>0</td>\n",
       "      <td>0</td>\n",
       "      <td>239853</td>\n",
       "      <td>0.0</td>\n",
       "      <td>S</td>\n",
       "    </tr>\n",
       "    <tr>\n",
       "      <th>466</th>\n",
       "      <td>467</td>\n",
       "      <td>0</td>\n",
       "      <td>2</td>\n",
       "      <td>male</td>\n",
       "      <td>28.0</td>\n",
       "      <td>0</td>\n",
       "      <td>0</td>\n",
       "      <td>239853</td>\n",
       "      <td>0.0</td>\n",
       "      <td>S</td>\n",
       "    </tr>\n",
       "    <tr>\n",
       "      <th>481</th>\n",
       "      <td>482</td>\n",
       "      <td>0</td>\n",
       "      <td>2</td>\n",
       "      <td>male</td>\n",
       "      <td>28.0</td>\n",
       "      <td>0</td>\n",
       "      <td>0</td>\n",
       "      <td>239854</td>\n",
       "      <td>0.0</td>\n",
       "      <td>S</td>\n",
       "    </tr>\n",
       "    <tr>\n",
       "      <th>597</th>\n",
       "      <td>598</td>\n",
       "      <td>0</td>\n",
       "      <td>3</td>\n",
       "      <td>male</td>\n",
       "      <td>49.0</td>\n",
       "      <td>0</td>\n",
       "      <td>0</td>\n",
       "      <td>LINE</td>\n",
       "      <td>0.0</td>\n",
       "      <td>S</td>\n",
       "    </tr>\n",
       "    <tr>\n",
       "      <th>633</th>\n",
       "      <td>634</td>\n",
       "      <td>0</td>\n",
       "      <td>1</td>\n",
       "      <td>male</td>\n",
       "      <td>28.0</td>\n",
       "      <td>0</td>\n",
       "      <td>0</td>\n",
       "      <td>112052</td>\n",
       "      <td>0.0</td>\n",
       "      <td>S</td>\n",
       "    </tr>\n",
       "    <tr>\n",
       "      <th>674</th>\n",
       "      <td>675</td>\n",
       "      <td>0</td>\n",
       "      <td>2</td>\n",
       "      <td>male</td>\n",
       "      <td>28.0</td>\n",
       "      <td>0</td>\n",
       "      <td>0</td>\n",
       "      <td>239856</td>\n",
       "      <td>0.0</td>\n",
       "      <td>S</td>\n",
       "    </tr>\n",
       "    <tr>\n",
       "      <th>732</th>\n",
       "      <td>733</td>\n",
       "      <td>0</td>\n",
       "      <td>2</td>\n",
       "      <td>male</td>\n",
       "      <td>28.0</td>\n",
       "      <td>0</td>\n",
       "      <td>0</td>\n",
       "      <td>239855</td>\n",
       "      <td>0.0</td>\n",
       "      <td>S</td>\n",
       "    </tr>\n",
       "    <tr>\n",
       "      <th>806</th>\n",
       "      <td>807</td>\n",
       "      <td>0</td>\n",
       "      <td>1</td>\n",
       "      <td>male</td>\n",
       "      <td>39.0</td>\n",
       "      <td>0</td>\n",
       "      <td>0</td>\n",
       "      <td>112050</td>\n",
       "      <td>0.0</td>\n",
       "      <td>S</td>\n",
       "    </tr>\n",
       "    <tr>\n",
       "      <th>815</th>\n",
       "      <td>816</td>\n",
       "      <td>0</td>\n",
       "      <td>1</td>\n",
       "      <td>male</td>\n",
       "      <td>28.0</td>\n",
       "      <td>0</td>\n",
       "      <td>0</td>\n",
       "      <td>112058</td>\n",
       "      <td>0.0</td>\n",
       "      <td>S</td>\n",
       "    </tr>\n",
       "    <tr>\n",
       "      <th>822</th>\n",
       "      <td>823</td>\n",
       "      <td>0</td>\n",
       "      <td>1</td>\n",
       "      <td>male</td>\n",
       "      <td>38.0</td>\n",
       "      <td>0</td>\n",
       "      <td>0</td>\n",
       "      <td>19972</td>\n",
       "      <td>0.0</td>\n",
       "      <td>S</td>\n",
       "    </tr>\n",
       "  </tbody>\n",
       "</table>\n",
       "</div>"
      ],
      "text/plain": [
       "     PassengerId  Survived  Pclass   Sex   Age  SibSp  Parch  Ticket  Fare  \\\n",
       "179          180         0       3  male  36.0      0      0    LINE   0.0   \n",
       "263          264         0       1  male  40.0      0      0  112059   0.0   \n",
       "271          272         1       3  male  25.0      0      0    LINE   0.0   \n",
       "277          278         0       2  male  28.0      0      0  239853   0.0   \n",
       "302          303         0       3  male  19.0      0      0    LINE   0.0   \n",
       "413          414         0       2  male  28.0      0      0  239853   0.0   \n",
       "466          467         0       2  male  28.0      0      0  239853   0.0   \n",
       "481          482         0       2  male  28.0      0      0  239854   0.0   \n",
       "597          598         0       3  male  49.0      0      0    LINE   0.0   \n",
       "633          634         0       1  male  28.0      0      0  112052   0.0   \n",
       "674          675         0       2  male  28.0      0      0  239856   0.0   \n",
       "732          733         0       2  male  28.0      0      0  239855   0.0   \n",
       "806          807         0       1  male  39.0      0      0  112050   0.0   \n",
       "815          816         0       1  male  28.0      0      0  112058   0.0   \n",
       "822          823         0       1  male  38.0      0      0   19972   0.0   \n",
       "\n",
       "    Embarked  \n",
       "179        S  \n",
       "263        S  \n",
       "271        S  \n",
       "277        S  \n",
       "302        S  \n",
       "413        S  \n",
       "466        S  \n",
       "481        S  \n",
       "597        S  \n",
       "633        S  \n",
       "674        S  \n",
       "732        S  \n",
       "806        S  \n",
       "815        S  \n",
       "822        S  "
      ]
     },
     "execution_count": 30,
     "metadata": {},
     "output_type": "execute_result"
    }
   ],
   "source": [
    "train_df[train_df['Fare']==0]"
   ]
  },
  {
   "cell_type": "markdown",
   "execution_count": null,
   "metadata": {},
   "source": [
    "Interestingly for all the passengers who have 0 as fare has embarked at S, they are all male, all are travelling alone and none of them have survived. possibillly  they could be the crew members. All the travller with ticket mentioned as Line are in Class 3. They could be lower level crew member"
   ]
  },
  {
   "cell_type": "code",
   "execution_count": 31,
   "metadata": {},
   "outputs": [],
   "source": [
    "def personclassifier(x):\n",
    "    age, sex = x\n",
    "    if age <=12:\n",
    "        return 'Child'\n",
    "    if age > 12 and age <=19:\n",
    "        return 'Teenager'\n",
    "    if age >19 and age <=30:\n",
    "        return 'Young Adult'\n",
    "    if age >30 and age <= 45:\n",
    "        return 'Mid aged Adult'\n",
    "    if age >45:\n",
    "        return 'Old Adults'\n",
    "    \n",
    "    \n",
    "    "
   ]
  },
  {
   "cell_type": "code",
   "execution_count": 32,
   "metadata": {},
   "outputs": [],
   "source": [
    "def singletraveller(x):\n",
    "    single  = x\n",
    "    if single ==0:\n",
    "        return 'Yes'\n",
    "    else:\n",
    "        return 'No'   "
   ]
  },
  {
   "cell_type": "code",
   "execution_count": 33,
   "metadata": {},
   "outputs": [],
   "source": [
    "train_df['Single_Traveller'] = train_df['SibSp']+train_df['Parch']"
   ]
  },
  {
   "cell_type": "code",
   "execution_count": 34,
   "metadata": {},
   "outputs": [],
   "source": [
    "train_df['Single_Traveller'] = train_df['Single_Traveller'].apply(singletraveller)"
   ]
  },
  {
   "cell_type": "code",
   "execution_count": 35,
   "metadata": {},
   "outputs": [],
   "source": [
    "test_df['Single_Traveller'] = test_df['SibSp']+test_df['Parch']"
   ]
  },
  {
   "cell_type": "code",
   "execution_count": 36,
   "metadata": {},
   "outputs": [],
   "source": [
    "test_df['Single_Traveller'] = test_df['Single_Traveller'].apply(singletraveller)"
   ]
  },
  {
   "cell_type": "code",
   "execution_count": 37,
   "metadata": {},
   "outputs": [],
   "source": [
    "train_df['Person'] = train_df[['Age','Sex']].apply(personclassifier,axis=1)"
   ]
  },
  {
   "cell_type": "code",
   "execution_count": 38,
   "metadata": {},
   "outputs": [],
   "source": [
    "test_df['Person'] = test_df[['Age','Sex']].apply(personclassifier,axis=1)"
   ]
  },
  {
   "cell_type": "code",
   "execution_count": 39,
   "metadata": {},
   "outputs": [
    {
     "data": {
      "image/png": "[encoded data removed]",
      "text/plain": [
       "<Figure size 1440x432 with 2 Axes>"
      ]
     },
     "metadata": {
      "needs_background": "light"
     },
     "output_type": "display_data"
    }
   ],
   "source": [
    "p_cont1 = pd.crosstab(train_df['Person'], train_df['Survived'], normalize='index') * 100\n",
    "p_cont1 = p_cont1.reset_index()\n",
    "p_cont1.rename(columns={0:'Dead', 1:'Survived'}, inplace=True)\n",
    "\n",
    "\n",
    "listv = []\n",
    "for var in train_df['Person'].unique():\n",
    "    listv.append(var)\n",
    "\n",
    "plt.figure(figsize=(20,6))\n",
    "\n",
    "ax1 = plt.subplot(121)\n",
    "\n",
    "g1= sns.countplot(x='Person',  data=train_df,order=listv,palette=\"Set1\")\n",
    "gt = g1.twinx()\n",
    "gt = sns.pointplot(x='Person', y='Survived', data=p_cont1, color='black', legend=False,order=listv)\n",
    "gt.set_ylabel(\"% of Survived\", fontsize=12)\n",
    "\n",
    "g1.set_title(\"Survival Rate Age Group wise\", fontsize=14)\n",
    "g1.set_ylabel(\"Count\", fontsize=12)\n",
    "\n",
    "\n",
    " \n",
    "\n",
    "plt.show()"
   ]
  },
  {
   "cell_type": "markdown",
   "execution_count": null,
   "metadata": {},
   "source": [
    "The above graph clearly shows that, young adults are the majority population and the survival rate is much lesser in that group and children having the highest survival rate."
   ]
  },
  {
   "cell_type": "code",
   "execution_count": 40,
   "metadata": {},
   "outputs": [
    {
     "data": {
      "text/html": [
       "<div>\n",
       "<style scoped>\n",
       "    .dataframe tbody tr th:only-of-type {\n",
       "        vertical-align: middle;\n",
       "    }\n",
       "\n",
       "    .dataframe tbody tr th {\n",
       "        vertical-align: top;\n",
       "    }\n",
       "\n",
       "    .dataframe thead th {\n",
       "        text-align: right;\n",
       "    }\n",
       "</style>\n",
       "<table border=\"1\" class=\"dataframe\">\n",
       "  <thead>\n",
       "    <tr style=\"text-align: right;\">\n",
       "      <th></th>\n",
       "      <th>Survived</th>\n",
       "      <th>0</th>\n",
       "      <th>1</th>\n",
       "    </tr>\n",
       "    <tr>\n",
       "      <th>Person</th>\n",
       "      <th>Sex</th>\n",
       "      <th></th>\n",
       "      <th></th>\n",
       "    </tr>\n",
       "  </thead>\n",
       "  <tbody>\n",
       "    <tr>\n",
       "      <th rowspan=\"2\" valign=\"top\">Child</th>\n",
       "      <th>female</th>\n",
       "      <td>40.625000</td>\n",
       "      <td>59.375000</td>\n",
       "    </tr>\n",
       "    <tr>\n",
       "      <th>male</th>\n",
       "      <td>43.243243</td>\n",
       "      <td>56.756757</td>\n",
       "    </tr>\n",
       "    <tr>\n",
       "      <th rowspan=\"2\" valign=\"top\">Mid aged Adult</th>\n",
       "      <th>female</th>\n",
       "      <td>21.917808</td>\n",
       "      <td>78.082192</td>\n",
       "    </tr>\n",
       "    <tr>\n",
       "      <th>male</th>\n",
       "      <td>77.519380</td>\n",
       "      <td>22.480620</td>\n",
       "    </tr>\n",
       "    <tr>\n",
       "      <th rowspan=\"2\" valign=\"top\">Old Adults</th>\n",
       "      <th>female</th>\n",
       "      <td>13.333333</td>\n",
       "      <td>86.666667</td>\n",
       "    </tr>\n",
       "    <tr>\n",
       "      <th>male</th>\n",
       "      <td>83.561644</td>\n",
       "      <td>16.438356</td>\n",
       "    </tr>\n",
       "    <tr>\n",
       "      <th rowspan=\"2\" valign=\"top\">Teenager</th>\n",
       "      <th>female</th>\n",
       "      <td>20.930233</td>\n",
       "      <td>79.069767</td>\n",
       "    </tr>\n",
       "    <tr>\n",
       "      <th>male</th>\n",
       "      <td>90.384615</td>\n",
       "      <td>9.615385</td>\n",
       "    </tr>\n",
       "    <tr>\n",
       "      <th rowspan=\"2\" valign=\"top\">Young Adult</th>\n",
       "      <th>female</th>\n",
       "      <td>28.676471</td>\n",
       "      <td>71.323529</td>\n",
       "    </tr>\n",
       "    <tr>\n",
       "      <th>male</th>\n",
       "      <td>85.314685</td>\n",
       "      <td>14.685315</td>\n",
       "    </tr>\n",
       "  </tbody>\n",
       "</table>\n",
       "</div>"
      ],
      "text/plain": [
       "Survived                       0          1\n",
       "Person         Sex                         \n",
       "Child          female  40.625000  59.375000\n",
       "               male    43.243243  56.756757\n",
       "Mid aged Adult female  21.917808  78.082192\n",
       "               male    77.519380  22.480620\n",
       "Old Adults     female  13.333333  86.666667\n",
       "               male    83.561644  16.438356\n",
       "Teenager       female  20.930233  79.069767\n",
       "               male    90.384615   9.615385\n",
       "Young Adult    female  28.676471  71.323529\n",
       "               male    85.314685  14.685315"
      ]
     },
     "execution_count": 40,
     "metadata": {},
     "output_type": "execute_result"
    }
   ],
   "source": [
    "p_cont1 = pd.crosstab([train_df['Person'],train_df['Sex']], train_df['Survived'], normalize='index') * 100\n",
    "p_cont1"
   ]
  },
  {
   "cell_type": "code",
   "execution_count": 41,
   "metadata": {},
   "outputs": [
    {
     "data": {
      "image/png": "[encoded data removed]",
      "text/plain": [
       "<Figure size 1440x432 with 2 Axes>"
      ]
     },
     "metadata": {
      "needs_background": "light"
     },
     "output_type": "display_data"
    }
   ],
   "source": [
    "p_cont1 = pd.crosstab([train_df['Person'],train_df['Sex']], train_df['Survived'], normalize='index') * 100\n",
    "p_cont1 = p_cont1.reset_index()\n",
    "p_cont1.rename(columns={0:'Dead', 1:'Survived'}, inplace=True)\n",
    "\n",
    "\n",
    "listv = []\n",
    "for var in train_df['Person'].unique():\n",
    "    listv.append(var)\n",
    "\n",
    "plt.figure(figsize=(20,6))\n",
    "\n",
    "ax1 = plt.subplot(121)\n",
    "\n",
    "g1= sns.countplot(x='Person', hue='Sex', data=train_df,order=listv,palette=\"Set1\")\n",
    "gt = g1.twinx()\n",
    "gt = sns.pointplot(x='Person', y='Survived', data=p_cont1, color='black', legend=False,order=listv)\n",
    "gt.set_ylabel(\"% of Survived\", fontsize=12)\n",
    "\n",
    "g1.set_title(\"Survival Rate By Age Group by Gender \", fontsize=14)\n",
    "g1.set_ylabel(\"Count\", fontsize=12)\n",
    "\n",
    "\n",
    " \n",
    "\n",
    "plt.show()"
   ]
  },
  {
   "cell_type": "markdown",
   "execution_count": null,
   "metadata": {},
   "source": [
    "In every age group the count of male is higher whereas in teenager group alone female traveller are slightly higher. Breaking the survival rate by age group by sex, children seem to have a farely same survival rate in both the gender, where as in all age group female seem to have hiher survival rate where in the teenager male having the least survival rate (less than 10%) and females in the Old Adult group have the higher survival rate with 86.66%."
   ]
  },
  {
   "cell_type": "code",
   "execution_count": 42,
   "metadata": {},
   "outputs": [
    {
     "data": {
      "image/png": "[encoded data removed]",
      "text/plain": [
       "<Figure size 1440x432 with 2 Axes>"
      ]
     },
     "metadata": {
      "needs_background": "light"
     },
     "output_type": "display_data"
    }
   ],
   "source": [
    "p_cont1 = pd.crosstab([train_df['Person'],train_df['Pclass']], train_df['Survived'], normalize='index') * 100\n",
    "p_cont1 = p_cont1.reset_index()\n",
    "p_cont1.rename(columns={0:'Dead', 1:'Survived'}, inplace=True)\n",
    "\n",
    "\n",
    "listv = []\n",
    "for var in train_df['Person'].unique():\n",
    "    listv.append(var)\n",
    "\n",
    "plt.figure(figsize=(20,6))\n",
    "\n",
    "ax1 = plt.subplot(121)\n",
    "\n",
    "g1= sns.countplot(x='Person', hue='Pclass', data=train_df,order=listv,palette=\"Set1\")\n",
    "gt = g1.twinx()\n",
    "gt = sns.pointplot(x='Person', y='Survived', data=p_cont1, color='black', legend=False,order=listv)\n",
    "gt.set_ylabel(\"% of Survived\", fontsize=12)\n",
    "\n",
    "g1.set_title(\"Survival Rate by age group by class\", fontsize=14)\n",
    "g1.set_ylabel(\"Count\", fontsize=12)\n",
    "\n",
    "\n",
    " \n",
    "\n",
    "plt.show()"
   ]
  },
  {
   "cell_type": "code",
   "execution_count": 43,
   "metadata": {},
   "outputs": [
    {
     "data": {
      "text/html": [
       "<div>\n",
       "<style scoped>\n",
       "    .dataframe tbody tr th:only-of-type {\n",
       "        vertical-align: middle;\n",
       "    }\n",
       "\n",
       "    .dataframe tbody tr th {\n",
       "        vertical-align: top;\n",
       "    }\n",
       "\n",
       "    .dataframe thead th {\n",
       "        text-align: right;\n",
       "    }\n",
       "</style>\n",
       "<table border=\"1\" class=\"dataframe\">\n",
       "  <thead>\n",
       "    <tr style=\"text-align: right;\">\n",
       "      <th></th>\n",
       "      <th>Survived</th>\n",
       "      <th>0</th>\n",
       "      <th>1</th>\n",
       "    </tr>\n",
       "    <tr>\n",
       "      <th>Person</th>\n",
       "      <th>Pclass</th>\n",
       "      <th></th>\n",
       "      <th></th>\n",
       "    </tr>\n",
       "  </thead>\n",
       "  <tbody>\n",
       "    <tr>\n",
       "      <th rowspan=\"3\" valign=\"top\">Child</th>\n",
       "      <th>1</th>\n",
       "      <td>25.000000</td>\n",
       "      <td>75.000000</td>\n",
       "    </tr>\n",
       "    <tr>\n",
       "      <th>2</th>\n",
       "      <td>0.000000</td>\n",
       "      <td>100.000000</td>\n",
       "    </tr>\n",
       "    <tr>\n",
       "      <th>3</th>\n",
       "      <td>58.333333</td>\n",
       "      <td>41.666667</td>\n",
       "    </tr>\n",
       "    <tr>\n",
       "      <th rowspan=\"3\" valign=\"top\">Mid aged Adult</th>\n",
       "      <th>1</th>\n",
       "      <td>26.984127</td>\n",
       "      <td>73.015873</td>\n",
       "    </tr>\n",
       "    <tr>\n",
       "      <th>2</th>\n",
       "      <td>53.703704</td>\n",
       "      <td>46.296296</td>\n",
       "    </tr>\n",
       "    <tr>\n",
       "      <th>3</th>\n",
       "      <td>82.352941</td>\n",
       "      <td>17.647059</td>\n",
       "    </tr>\n",
       "    <tr>\n",
       "      <th rowspan=\"3\" valign=\"top\">Old Adults</th>\n",
       "      <th>1</th>\n",
       "      <td>51.612903</td>\n",
       "      <td>48.387097</td>\n",
       "    </tr>\n",
       "    <tr>\n",
       "      <th>2</th>\n",
       "      <td>69.565217</td>\n",
       "      <td>30.434783</td>\n",
       "    </tr>\n",
       "    <tr>\n",
       "      <th>3</th>\n",
       "      <td>94.444444</td>\n",
       "      <td>5.555556</td>\n",
       "    </tr>\n",
       "    <tr>\n",
       "      <th rowspan=\"3\" valign=\"top\">Teenager</th>\n",
       "      <th>1</th>\n",
       "      <td>17.647059</td>\n",
       "      <td>82.352941</td>\n",
       "    </tr>\n",
       "    <tr>\n",
       "      <th>2</th>\n",
       "      <td>50.000000</td>\n",
       "      <td>50.000000</td>\n",
       "    </tr>\n",
       "    <tr>\n",
       "      <th>3</th>\n",
       "      <td>73.333333</td>\n",
       "      <td>26.666667</td>\n",
       "    </tr>\n",
       "    <tr>\n",
       "      <th rowspan=\"3\" valign=\"top\">Young Adult</th>\n",
       "      <th>1</th>\n",
       "      <td>38.571429</td>\n",
       "      <td>61.428571</td>\n",
       "    </tr>\n",
       "    <tr>\n",
       "      <th>2</th>\n",
       "      <td>59.722222</td>\n",
       "      <td>40.277778</td>\n",
       "    </tr>\n",
       "    <tr>\n",
       "      <th>3</th>\n",
       "      <td>76.071429</td>\n",
       "      <td>23.928571</td>\n",
       "    </tr>\n",
       "  </tbody>\n",
       "</table>\n",
       "</div>"
      ],
      "text/plain": [
       "Survived                       0           1\n",
       "Person         Pclass                       \n",
       "Child          1       25.000000   75.000000\n",
       "               2        0.000000  100.000000\n",
       "               3       58.333333   41.666667\n",
       "Mid aged Adult 1       26.984127   73.015873\n",
       "               2       53.703704   46.296296\n",
       "               3       82.352941   17.647059\n",
       "Old Adults     1       51.612903   48.387097\n",
       "               2       69.565217   30.434783\n",
       "               3       94.444444    5.555556\n",
       "Teenager       1       17.647059   82.352941\n",
       "               2       50.000000   50.000000\n",
       "               3       73.333333   26.666667\n",
       "Young Adult    1       38.571429   61.428571\n",
       "               2       59.722222   40.277778\n",
       "               3       76.071429   23.928571"
      ]
     },
     "execution_count": 43,
     "metadata": {},
     "output_type": "execute_result"
    }
   ],
   "source": [
    "p_cont1 = pd.crosstab([train_df['Person'],train_df['Pclass']], train_df['Survived'], normalize='index') * 100\n",
    "p_cont1"
   ]
  },
  {
   "cell_type": "markdown",
   "execution_count": null,
   "metadata": {},
   "source": [
    "Children in class 2 have 100% survival rate and old adults in class 3 have the least survival rate with just 5.55%"
   ]
  },
  {
   "cell_type": "code",
   "execution_count": 44,
   "metadata": {},
   "outputs": [
    {
     "data": {
      "text/plain": [
       "PassengerId         0\n",
       "Pclass              0\n",
       "Sex                 0\n",
       "Age                 0\n",
       "SibSp               0\n",
       "Parch               0\n",
       "Ticket              0\n",
       "Fare                1\n",
       "Embarked            0\n",
       "Single_Traveller    0\n",
       "Person              0\n",
       "dtype: int64"
      ]
     },
     "execution_count": 44,
     "metadata": {},
     "output_type": "execute_result"
    }
   ],
   "source": [
    "test_df.isnull().sum()"
   ]
  },
  {
   "cell_type": "code",
   "execution_count": 45,
   "metadata": {},
   "outputs": [],
   "source": [
    "test_df['Fare'].fillna(test_df['Fare'].median(),inplace=True)"
   ]
  },
  {
   "cell_type": "code",
   "execution_count": 46,
   "metadata": {},
   "outputs": [
    {
     "data": {
      "image/png": "[encoded data removed]",
      "text/plain": [
       "<Figure size 1440x432 with 2 Axes>"
      ]
     },
     "metadata": {
      "needs_background": "light"
     },
     "output_type": "display_data"
    }
   ],
   "source": [
    "p_cont1 = pd.crosstab(train_df['Single_Traveller'], train_df['Survived'], normalize='index') * 100\n",
    "p_cont1 = p_cont1.reset_index()\n",
    "p_cont1.rename(columns={0:'Dead', 1:'Survived'}, inplace=True)\n",
    "\n",
    "\n",
    "listv = []\n",
    "for var in train_df['Single_Traveller'].unique():\n",
    "    listv.append(var)\n",
    "\n",
    "plt.figure(figsize=(20,6))\n",
    "\n",
    "ax1 = plt.subplot(121)\n",
    "\n",
    "g1= sns.countplot(x='Single_Traveller', data=train_df,order=listv,palette=\"Set1\")\n",
    "gt = g1.twinx()\n",
    "gt = sns.pointplot(x='Single_Traveller', y='Survived', data=p_cont1, color='black', legend=False,order=listv)\n",
    "gt.set_ylabel(\"% of Survived\", fontsize=12)\n",
    "\n",
    "g1.set_title(\"Survival Rate by Single Traveller\", fontsize=14)\n",
    "g1.set_ylabel(\"Count\", fontsize=12)\n",
    "\n",
    "\n",
    " \n",
    "\n",
    "plt.show()"
   ]
  },
  {
   "cell_type": "markdown",
   "execution_count": null,
   "metadata": {},
   "source": [
    "The count of single traveller seems to be high,but only 30 percentage of the single traveller survived where as more than 50% of the  traveller who travelled with someone have survived. "
   ]
  },
  {
   "cell_type": "code",
   "execution_count": 47,
   "metadata": {},
   "outputs": [
    {
     "data": {
      "image/png": "[encoded data removed]",
      "text/plain": [
       "<Figure size 1440x432 with 2 Axes>"
      ]
     },
     "metadata": {
      "needs_background": "light"
     },
     "output_type": "display_data"
    }
   ],
   "source": [
    "p_cont1 = pd.crosstab([train_df['Single_Traveller'],train_df['Sex']], train_df['Survived'], normalize='index') * 100\n",
    "p_cont1 = p_cont1.reset_index()\n",
    "p_cont1.rename(columns={0:'Dead', 1:'Survived'}, inplace=True)\n",
    "\n",
    "\n",
    "listv = []\n",
    "for var in train_df['Single_Traveller'].unique():\n",
    "    listv.append(var)\n",
    "\n",
    "plt.figure(figsize=(20,6))\n",
    "\n",
    "ax1 = plt.subplot(121)\n",
    "\n",
    "g1= sns.countplot(x='Single_Traveller', hue='Sex', data=train_df,order=listv,palette=\"Set1\")\n",
    "gt = g1.twinx()\n",
    "gt = sns.pointplot(x='Single_Traveller', y='Survived', data=p_cont1, color='black', legend=False,order=listv)\n",
    "gt.set_ylabel(\"% of Survived\", fontsize=12)\n",
    "\n",
    "g1.set_title(\"Survival Rate by Single traveller by gender\", fontsize=14)\n",
    "g1.set_ylabel(\"Count\", fontsize=12)\n",
    "\n",
    "\n",
    " \n",
    "\n",
    "plt.show()"
   ]
  },
  {
   "cell_type": "markdown",
   "execution_count": null,
   "metadata": {},
   "source": [
    "Though the number of single traveller female is very less almost 80% of them have survived, whereas only 15% of male single traveller have survived. "
   ]
  },
  {
   "cell_type": "code",
   "execution_count": 48,
   "metadata": {},
   "outputs": [
    {
     "data": {
      "text/html": [
       "<div>\n",
       "<style scoped>\n",
       "    .dataframe tbody tr th:only-of-type {\n",
       "        vertical-align: middle;\n",
       "    }\n",
       "\n",
       "    .dataframe tbody tr th {\n",
       "        vertical-align: top;\n",
       "    }\n",
       "\n",
       "    .dataframe thead th {\n",
       "        text-align: right;\n",
       "    }\n",
       "</style>\n",
       "<table border=\"1\" class=\"dataframe\">\n",
       "  <thead>\n",
       "    <tr style=\"text-align: right;\">\n",
       "      <th></th>\n",
       "      <th>Survived</th>\n",
       "      <th>0</th>\n",
       "      <th>1</th>\n",
       "    </tr>\n",
       "    <tr>\n",
       "      <th>Single_Traveller</th>\n",
       "      <th>Sex</th>\n",
       "      <th></th>\n",
       "      <th></th>\n",
       "    </tr>\n",
       "  </thead>\n",
       "  <tbody>\n",
       "    <tr>\n",
       "      <th rowspan=\"2\" valign=\"top\">No</th>\n",
       "      <th>female</th>\n",
       "      <td>28.723404</td>\n",
       "      <td>71.276596</td>\n",
       "    </tr>\n",
       "    <tr>\n",
       "      <th>male</th>\n",
       "      <td>72.891566</td>\n",
       "      <td>27.108434</td>\n",
       "    </tr>\n",
       "    <tr>\n",
       "      <th rowspan=\"2\" valign=\"top\">Yes</th>\n",
       "      <th>female</th>\n",
       "      <td>21.428571</td>\n",
       "      <td>78.571429</td>\n",
       "    </tr>\n",
       "    <tr>\n",
       "      <th>male</th>\n",
       "      <td>84.428224</td>\n",
       "      <td>15.571776</td>\n",
       "    </tr>\n",
       "  </tbody>\n",
       "</table>\n",
       "</div>"
      ],
      "text/plain": [
       "Survived                         0          1\n",
       "Single_Traveller Sex                         \n",
       "No               female  28.723404  71.276596\n",
       "                 male    72.891566  27.108434\n",
       "Yes              female  21.428571  78.571429\n",
       "                 male    84.428224  15.571776"
      ]
     },
     "execution_count": 48,
     "metadata": {},
     "output_type": "execute_result"
    }
   ],
   "source": [
    "p_cont1 = pd.crosstab([train_df['Single_Traveller'],train_df['Sex']], train_df['Survived'], normalize='index') * 100\n",
    "p_cont1"
   ]
  },
  {
   "cell_type": "markdown",
   "execution_count": null,
   "metadata": {},
   "source": [
    "The nummber female single traveller are very less."
   ]
  },
  {
   "cell_type": "code",
   "execution_count": 49,
   "metadata": {},
   "outputs": [
    {
     "data": {
      "image/png": "[encoded data removed]",
      "text/plain": [
       "<Figure size 1440x432 with 2 Axes>"
      ]
     },
     "metadata": {
      "needs_background": "light"
     },
     "output_type": "display_data"
    }
   ],
   "source": [
    "p_cont1 = pd.crosstab([train_df['Pclass'],train_df['Single_Traveller']], train_df['Survived'], normalize='index') * 100\n",
    "p_cont1 = p_cont1.reset_index()\n",
    "p_cont1.rename(columns={0:'Dead', 1:'Survived'}, inplace=True)\n",
    "\n",
    "\n",
    "listv = []\n",
    "for var in train_df['Pclass'].unique():\n",
    "    listv.append(var)\n",
    "\n",
    "plt.figure(figsize=(20,6))\n",
    "\n",
    "ax1 = plt.subplot(121)\n",
    "\n",
    "g1= sns.countplot(x='Pclass', hue='Single_Traveller', data=train_df,order=listv,palette=\"Set1\")\n",
    "gt = g1.twinx()\n",
    "gt = sns.pointplot(x='Pclass', y='Survived', data=p_cont1, color='black', legend=False,order=listv)\n",
    "gt.set_ylabel(\"% of Survived\", fontsize=12)\n",
    "\n",
    "g1.set_title(\"Survival Rate by class by single traveller\", fontsize=14)\n",
    "g1.set_ylabel(\"Count\", fontsize=12)\n",
    "\n",
    "\n",
    " \n",
    "\n",
    "plt.show()"
   ]
  },
  {
   "cell_type": "code",
   "execution_count": 50,
   "metadata": {},
   "outputs": [
    {
     "data": {
      "text/html": [
       "<div>\n",
       "<style scoped>\n",
       "    .dataframe tbody tr th:only-of-type {\n",
       "        vertical-align: middle;\n",
       "    }\n",
       "\n",
       "    .dataframe tbody tr th {\n",
       "        vertical-align: top;\n",
       "    }\n",
       "\n",
       "    .dataframe thead th {\n",
       "        text-align: right;\n",
       "    }\n",
       "</style>\n",
       "<table border=\"1\" class=\"dataframe\">\n",
       "  <thead>\n",
       "    <tr style=\"text-align: right;\">\n",
       "      <th></th>\n",
       "      <th>Survived</th>\n",
       "      <th>0</th>\n",
       "      <th>1</th>\n",
       "    </tr>\n",
       "    <tr>\n",
       "      <th>Pclass</th>\n",
       "      <th>Single_Traveller</th>\n",
       "      <th></th>\n",
       "      <th></th>\n",
       "    </tr>\n",
       "  </thead>\n",
       "  <tbody>\n",
       "    <tr>\n",
       "      <th rowspan=\"2\" valign=\"top\">1</th>\n",
       "      <th>No</th>\n",
       "      <td>27.102804</td>\n",
       "      <td>72.897196</td>\n",
       "    </tr>\n",
       "    <tr>\n",
       "      <th>Yes</th>\n",
       "      <td>46.788991</td>\n",
       "      <td>53.211009</td>\n",
       "    </tr>\n",
       "    <tr>\n",
       "      <th rowspan=\"2\" valign=\"top\">2</th>\n",
       "      <th>No</th>\n",
       "      <td>36.250000</td>\n",
       "      <td>63.750000</td>\n",
       "    </tr>\n",
       "    <tr>\n",
       "      <th>Yes</th>\n",
       "      <td>65.384615</td>\n",
       "      <td>34.615385</td>\n",
       "    </tr>\n",
       "    <tr>\n",
       "      <th rowspan=\"2\" valign=\"top\">3</th>\n",
       "      <th>No</th>\n",
       "      <td>70.059880</td>\n",
       "      <td>29.940120</td>\n",
       "    </tr>\n",
       "    <tr>\n",
       "      <th>Yes</th>\n",
       "      <td>78.703704</td>\n",
       "      <td>21.296296</td>\n",
       "    </tr>\n",
       "  </tbody>\n",
       "</table>\n",
       "</div>"
      ],
      "text/plain": [
       "Survived                         0          1\n",
       "Pclass Single_Traveller                      \n",
       "1      No                27.102804  72.897196\n",
       "       Yes               46.788991  53.211009\n",
       "2      No                36.250000  63.750000\n",
       "       Yes               65.384615  34.615385\n",
       "3      No                70.059880  29.940120\n",
       "       Yes               78.703704  21.296296"
      ]
     },
     "execution_count": 50,
     "metadata": {},
     "output_type": "execute_result"
    }
   ],
   "source": [
    "p_cont1 = pd.crosstab([train_df['Pclass'],train_df['Single_Traveller']], train_df['Survived'], normalize='index') * 100\n",
    "p_cont1"
   ]
  },
  {
   "cell_type": "markdown",
   "execution_count": null,
   "metadata": {},
   "source": [
    "By all means single traveller has less survival rate"
   ]
  },
  {
   "cell_type": "markdown",
   "execution_count": null,
   "metadata": {},
   "source": [
    "Creating the model without any outlier treatment."
   ]
  },
  {
   "cell_type": "code",
   "execution_count": 51,
   "metadata": {},
   "outputs": [
    {
     "data": {
      "text/html": [
       "<div>\n",
       "<style scoped>\n",
       "    .dataframe tbody tr th:only-of-type {\n",
       "        vertical-align: middle;\n",
       "    }\n",
       "\n",
       "    .dataframe tbody tr th {\n",
       "        vertical-align: top;\n",
       "    }\n",
       "\n",
       "    .dataframe thead th {\n",
       "        text-align: right;\n",
       "    }\n",
       "</style>\n",
       "<table border=\"1\" class=\"dataframe\">\n",
       "  <thead>\n",
       "    <tr style=\"text-align: right;\">\n",
       "      <th></th>\n",
       "      <th>PassengerId</th>\n",
       "      <th>Survived</th>\n",
       "      <th>Pclass</th>\n",
       "      <th>Sex</th>\n",
       "      <th>Age</th>\n",
       "      <th>SibSp</th>\n",
       "      <th>Parch</th>\n",
       "      <th>Ticket</th>\n",
       "      <th>Fare</th>\n",
       "      <th>Embarked</th>\n",
       "      <th>Single_Traveller</th>\n",
       "      <th>Person</th>\n",
       "    </tr>\n",
       "  </thead>\n",
       "  <tbody>\n",
       "    <tr>\n",
       "      <th>0</th>\n",
       "      <td>1</td>\n",
       "      <td>0</td>\n",
       "      <td>3</td>\n",
       "      <td>male</td>\n",
       "      <td>22.0</td>\n",
       "      <td>1</td>\n",
       "      <td>0</td>\n",
       "      <td>A/5 21171</td>\n",
       "      <td>7.2500</td>\n",
       "      <td>S</td>\n",
       "      <td>No</td>\n",
       "      <td>Young Adult</td>\n",
       "    </tr>\n",
       "    <tr>\n",
       "      <th>1</th>\n",
       "      <td>2</td>\n",
       "      <td>1</td>\n",
       "      <td>1</td>\n",
       "      <td>female</td>\n",
       "      <td>38.0</td>\n",
       "      <td>1</td>\n",
       "      <td>0</td>\n",
       "      <td>PC 17599</td>\n",
       "      <td>71.2833</td>\n",
       "      <td>C</td>\n",
       "      <td>No</td>\n",
       "      <td>Mid aged Adult</td>\n",
       "    </tr>\n",
       "    <tr>\n",
       "      <th>2</th>\n",
       "      <td>3</td>\n",
       "      <td>1</td>\n",
       "      <td>3</td>\n",
       "      <td>female</td>\n",
       "      <td>26.0</td>\n",
       "      <td>0</td>\n",
       "      <td>0</td>\n",
       "      <td>STON/O2. 3101282</td>\n",
       "      <td>7.9250</td>\n",
       "      <td>S</td>\n",
       "      <td>Yes</td>\n",
       "      <td>Young Adult</td>\n",
       "    </tr>\n",
       "    <tr>\n",
       "      <th>3</th>\n",
       "      <td>4</td>\n",
       "      <td>1</td>\n",
       "      <td>1</td>\n",
       "      <td>female</td>\n",
       "      <td>35.0</td>\n",
       "      <td>1</td>\n",
       "      <td>0</td>\n",
       "      <td>113803</td>\n",
       "      <td>53.1000</td>\n",
       "      <td>S</td>\n",
       "      <td>No</td>\n",
       "      <td>Mid aged Adult</td>\n",
       "    </tr>\n",
       "    <tr>\n",
       "      <th>4</th>\n",
       "      <td>5</td>\n",
       "      <td>0</td>\n",
       "      <td>3</td>\n",
       "      <td>male</td>\n",
       "      <td>35.0</td>\n",
       "      <td>0</td>\n",
       "      <td>0</td>\n",
       "      <td>373450</td>\n",
       "      <td>8.0500</td>\n",
       "      <td>S</td>\n",
       "      <td>Yes</td>\n",
       "      <td>Mid aged Adult</td>\n",
       "    </tr>\n",
       "  </tbody>\n",
       "</table>\n",
       "</div>"
      ],
      "text/plain": [
       "   PassengerId  Survived  Pclass     Sex   Age  SibSp  Parch  \\\n",
       "0            1         0       3    male  22.0      1      0   \n",
       "1            2         1       1  female  38.0      1      0   \n",
       "2            3         1       3  female  26.0      0      0   \n",
       "3            4         1       1  female  35.0      1      0   \n",
       "4            5         0       3    male  35.0      0      0   \n",
       "\n",
       "             Ticket     Fare Embarked Single_Traveller          Person  \n",
       "0         A/5 21171   7.2500        S               No     Young Adult  \n",
       "1          PC 17599  71.2833        C               No  Mid aged Adult  \n",
       "2  STON/O2. 3101282   7.9250        S              Yes     Young Adult  \n",
       "3            113803  53.1000        S               No  Mid aged Adult  \n",
       "4            373450   8.0500        S              Yes  Mid aged Adult  "
      ]
     },
     "execution_count": 51,
     "metadata": {},
     "output_type": "execute_result"
    }
   ],
   "source": [
    "train_df.head()"
   ]
  },
  {
   "cell_type": "code",
   "execution_count": 52,
   "metadata": {},
   "outputs": [],
   "source": [
    "train_df.drop('Ticket',axis=1,inplace=True)\n",
    "test_df.drop('Ticket',axis=1,inplace=True)\n",
    "#train_df.drop(['SibSp','Parch'],axis=1,inplace=True)\n",
    "#test_df.drop(['SibSp','Parch'],axis=1,inplace=True)"
   ]
  },
  {
   "cell_type": "code",
   "execution_count": 53,
   "metadata": {},
   "outputs": [],
   "source": [
    "col = []\n",
    "for c in train_df.columns:\n",
    "    if train_df[c].dtypes=='object':\n",
    "        col.append(c)\n",
    "        \n",
    "\n",
    "train_df_dummies = pd.get_dummies(train_df , columns=col, drop_first=True)"
   ]
  },
  {
   "cell_type": "code",
   "execution_count": 54,
   "metadata": {},
   "outputs": [],
   "source": [
    "corr_mat = train_df_dummies.corr()\n"
   ]
  },
  {
   "cell_type": "code",
   "execution_count": 55,
   "metadata": {},
   "outputs": [
    {
     "data": {
      "text/html": [
       "<div>\n",
       "<style scoped>\n",
       "    .dataframe tbody tr th:only-of-type {\n",
       "        vertical-align: middle;\n",
       "    }\n",
       "\n",
       "    .dataframe tbody tr th {\n",
       "        vertical-align: top;\n",
       "    }\n",
       "\n",
       "    .dataframe thead th {\n",
       "        text-align: right;\n",
       "    }\n",
       "</style>\n",
       "<table border=\"1\" class=\"dataframe\">\n",
       "  <thead>\n",
       "    <tr style=\"text-align: right;\">\n",
       "      <th></th>\n",
       "      <th>PassengerId</th>\n",
       "      <th>Survived</th>\n",
       "      <th>Pclass</th>\n",
       "      <th>Age</th>\n",
       "      <th>SibSp</th>\n",
       "      <th>Parch</th>\n",
       "      <th>Fare</th>\n",
       "      <th>Sex_male</th>\n",
       "      <th>Embarked_Q</th>\n",
       "      <th>Embarked_S</th>\n",
       "      <th>Single_Traveller_Yes</th>\n",
       "      <th>Person_Mid aged Adult</th>\n",
       "      <th>Person_Old Adults</th>\n",
       "      <th>Person_Teenager</th>\n",
       "      <th>Person_Young Adult</th>\n",
       "    </tr>\n",
       "  </thead>\n",
       "  <tbody>\n",
       "    <tr>\n",
       "      <th>PassengerId</th>\n",
       "      <td>1.000000</td>\n",
       "      <td>-0.005007</td>\n",
       "      <td>-0.035144</td>\n",
       "      <td>0.034212</td>\n",
       "      <td>-0.057527</td>\n",
       "      <td>-0.001652</td>\n",
       "      <td>0.012658</td>\n",
       "      <td>0.042939</td>\n",
       "      <td>-0.033606</td>\n",
       "      <td>0.022204</td>\n",
       "      <td>0.057462</td>\n",
       "      <td>0.039247</td>\n",
       "      <td>0.038757</td>\n",
       "      <td>-0.007762</td>\n",
       "      <td>-0.044753</td>\n",
       "    </tr>\n",
       "    <tr>\n",
       "      <th>Survived</th>\n",
       "      <td>-0.005007</td>\n",
       "      <td>1.000000</td>\n",
       "      <td>-0.338481</td>\n",
       "      <td>-0.064910</td>\n",
       "      <td>-0.035322</td>\n",
       "      <td>0.081629</td>\n",
       "      <td>0.257307</td>\n",
       "      <td>-0.543351</td>\n",
       "      <td>0.003650</td>\n",
       "      <td>-0.149683</td>\n",
       "      <td>-0.203367</td>\n",
       "      <td>0.046655</td>\n",
       "      <td>-0.011082</td>\n",
       "      <td>0.018958</td>\n",
       "      <td>-0.106214</td>\n",
       "    </tr>\n",
       "    <tr>\n",
       "      <th>Pclass</th>\n",
       "      <td>-0.035144</td>\n",
       "      <td>-0.338481</td>\n",
       "      <td>1.000000</td>\n",
       "      <td>-0.339898</td>\n",
       "      <td>0.083081</td>\n",
       "      <td>0.018443</td>\n",
       "      <td>-0.549500</td>\n",
       "      <td>0.131900</td>\n",
       "      <td>0.221009</td>\n",
       "      <td>0.074053</td>\n",
       "      <td>0.135207</td>\n",
       "      <td>-0.129423</td>\n",
       "      <td>-0.318370</td>\n",
       "      <td>0.059530</td>\n",
       "      <td>0.214539</td>\n",
       "    </tr>\n",
       "    <tr>\n",
       "      <th>Age</th>\n",
       "      <td>0.034212</td>\n",
       "      <td>-0.064910</td>\n",
       "      <td>-0.339898</td>\n",
       "      <td>1.000000</td>\n",
       "      <td>-0.233296</td>\n",
       "      <td>-0.172482</td>\n",
       "      <td>0.096688</td>\n",
       "      <td>0.081163</td>\n",
       "      <td>-0.031415</td>\n",
       "      <td>-0.006729</td>\n",
       "      <td>0.171647</td>\n",
       "      <td>0.314341</td>\n",
       "      <td>0.704521</td>\n",
       "      <td>-0.322459</td>\n",
       "      <td>-0.222335</td>\n",
       "    </tr>\n",
       "    <tr>\n",
       "      <th>SibSp</th>\n",
       "      <td>-0.057527</td>\n",
       "      <td>-0.035322</td>\n",
       "      <td>0.083081</td>\n",
       "      <td>-0.233296</td>\n",
       "      <td>1.000000</td>\n",
       "      <td>0.414838</td>\n",
       "      <td>0.159651</td>\n",
       "      <td>-0.114631</td>\n",
       "      <td>-0.026354</td>\n",
       "      <td>0.068734</td>\n",
       "      <td>-0.584471</td>\n",
       "      <td>-0.076971</td>\n",
       "      <td>-0.069652</td>\n",
       "      <td>0.014235</td>\n",
       "      <td>-0.089146</td>\n",
       "    </tr>\n",
       "    <tr>\n",
       "      <th>Parch</th>\n",
       "      <td>-0.001652</td>\n",
       "      <td>0.081629</td>\n",
       "      <td>0.018443</td>\n",
       "      <td>-0.172482</td>\n",
       "      <td>0.414838</td>\n",
       "      <td>1.000000</td>\n",
       "      <td>0.216225</td>\n",
       "      <td>-0.245489</td>\n",
       "      <td>-0.081228</td>\n",
       "      <td>0.060814</td>\n",
       "      <td>-0.583398</td>\n",
       "      <td>0.039655</td>\n",
       "      <td>-0.049253</td>\n",
       "      <td>0.007893</td>\n",
       "      <td>-0.203775</td>\n",
       "    </tr>\n",
       "    <tr>\n",
       "      <th>Fare</th>\n",
       "      <td>0.012658</td>\n",
       "      <td>0.257307</td>\n",
       "      <td>-0.549500</td>\n",
       "      <td>0.096688</td>\n",
       "      <td>0.159651</td>\n",
       "      <td>0.216225</td>\n",
       "      <td>1.000000</td>\n",
       "      <td>-0.182333</td>\n",
       "      <td>-0.117216</td>\n",
       "      <td>-0.162184</td>\n",
       "      <td>-0.271832</td>\n",
       "      <td>0.098783</td>\n",
       "      <td>0.089407</td>\n",
       "      <td>-0.001543</td>\n",
       "      <td>-0.137053</td>\n",
       "    </tr>\n",
       "    <tr>\n",
       "      <th>Sex_male</th>\n",
       "      <td>0.042939</td>\n",
       "      <td>-0.543351</td>\n",
       "      <td>0.131900</td>\n",
       "      <td>0.081163</td>\n",
       "      <td>-0.114631</td>\n",
       "      <td>-0.245489</td>\n",
       "      <td>-0.182333</td>\n",
       "      <td>1.000000</td>\n",
       "      <td>-0.074115</td>\n",
       "      <td>0.119224</td>\n",
       "      <td>0.303646</td>\n",
       "      <td>-0.010170</td>\n",
       "      <td>0.046279</td>\n",
       "      <td>-0.072473</td>\n",
       "      <td>0.059843</td>\n",
       "    </tr>\n",
       "    <tr>\n",
       "      <th>Embarked_Q</th>\n",
       "      <td>-0.033606</td>\n",
       "      <td>0.003650</td>\n",
       "      <td>0.221009</td>\n",
       "      <td>-0.031415</td>\n",
       "      <td>-0.026354</td>\n",
       "      <td>-0.081228</td>\n",
       "      <td>-0.117216</td>\n",
       "      <td>-0.074115</td>\n",
       "      <td>1.000000</td>\n",
       "      <td>-0.499421</td>\n",
       "      <td>0.086464</td>\n",
       "      <td>-0.080675</td>\n",
       "      <td>-0.073719</td>\n",
       "      <td>-0.028600</td>\n",
       "      <td>0.148243</td>\n",
       "    </tr>\n",
       "    <tr>\n",
       "      <th>Embarked_S</th>\n",
       "      <td>0.022204</td>\n",
       "      <td>-0.149683</td>\n",
       "      <td>0.074053</td>\n",
       "      <td>-0.006729</td>\n",
       "      <td>0.068734</td>\n",
       "      <td>0.060814</td>\n",
       "      <td>-0.162184</td>\n",
       "      <td>0.119224</td>\n",
       "      <td>-0.499421</td>\n",
       "      <td>1.000000</td>\n",
       "      <td>0.029074</td>\n",
       "      <td>0.099321</td>\n",
       "      <td>-0.005329</td>\n",
       "      <td>0.017285</td>\n",
       "      <td>-0.110562</td>\n",
       "    </tr>\n",
       "    <tr>\n",
       "      <th>Single_Traveller_Yes</th>\n",
       "      <td>0.057462</td>\n",
       "      <td>-0.203367</td>\n",
       "      <td>0.135207</td>\n",
       "      <td>0.171647</td>\n",
       "      <td>-0.584471</td>\n",
       "      <td>-0.583398</td>\n",
       "      <td>-0.271832</td>\n",
       "      <td>0.303646</td>\n",
       "      <td>0.086464</td>\n",
       "      <td>0.029074</td>\n",
       "      <td>1.000000</td>\n",
       "      <td>-0.031465</td>\n",
       "      <td>0.020964</td>\n",
       "      <td>-0.039059</td>\n",
       "      <td>0.218943</td>\n",
       "    </tr>\n",
       "    <tr>\n",
       "      <th>Person_Mid aged Adult</th>\n",
       "      <td>0.039247</td>\n",
       "      <td>0.046655</td>\n",
       "      <td>-0.129423</td>\n",
       "      <td>0.314341</td>\n",
       "      <td>-0.076971</td>\n",
       "      <td>0.039655</td>\n",
       "      <td>0.098783</td>\n",
       "      <td>-0.010170</td>\n",
       "      <td>-0.080675</td>\n",
       "      <td>0.099321</td>\n",
       "      <td>-0.031465</td>\n",
       "      <td>1.000000</td>\n",
       "      <td>-0.195759</td>\n",
       "      <td>-0.187056</td>\n",
       "      <td>-0.513613</td>\n",
       "    </tr>\n",
       "    <tr>\n",
       "      <th>Person_Old Adults</th>\n",
       "      <td>0.038757</td>\n",
       "      <td>-0.011082</td>\n",
       "      <td>-0.318370</td>\n",
       "      <td>0.704521</td>\n",
       "      <td>-0.069652</td>\n",
       "      <td>-0.049253</td>\n",
       "      <td>0.089407</td>\n",
       "      <td>0.046279</td>\n",
       "      <td>-0.073719</td>\n",
       "      <td>-0.005329</td>\n",
       "      <td>0.020964</td>\n",
       "      <td>-0.195759</td>\n",
       "      <td>1.000000</td>\n",
       "      <td>-0.124900</td>\n",
       "      <td>-0.342946</td>\n",
       "    </tr>\n",
       "    <tr>\n",
       "      <th>Person_Teenager</th>\n",
       "      <td>-0.007762</td>\n",
       "      <td>0.018958</td>\n",
       "      <td>0.059530</td>\n",
       "      <td>-0.322459</td>\n",
       "      <td>0.014235</td>\n",
       "      <td>0.007893</td>\n",
       "      <td>-0.001543</td>\n",
       "      <td>-0.072473</td>\n",
       "      <td>-0.028600</td>\n",
       "      <td>0.017285</td>\n",
       "      <td>-0.039059</td>\n",
       "      <td>-0.187056</td>\n",
       "      <td>-0.124900</td>\n",
       "      <td>1.000000</td>\n",
       "      <td>-0.327699</td>\n",
       "    </tr>\n",
       "    <tr>\n",
       "      <th>Person_Young Adult</th>\n",
       "      <td>-0.044753</td>\n",
       "      <td>-0.106214</td>\n",
       "      <td>0.214539</td>\n",
       "      <td>-0.222335</td>\n",
       "      <td>-0.089146</td>\n",
       "      <td>-0.203775</td>\n",
       "      <td>-0.137053</td>\n",
       "      <td>0.059843</td>\n",
       "      <td>0.148243</td>\n",
       "      <td>-0.110562</td>\n",
       "      <td>0.218943</td>\n",
       "      <td>-0.513613</td>\n",
       "      <td>-0.342946</td>\n",
       "      <td>-0.327699</td>\n",
       "      <td>1.000000</td>\n",
       "    </tr>\n",
       "  </tbody>\n",
       "</table>\n",
       "</div>"
      ],
      "text/plain": [
       "                       PassengerId  Survived    Pclass       Age     SibSp  \\\n",
       "PassengerId               1.000000 -0.005007 -0.035144  0.034212 -0.057527   \n",
       "Survived                 -0.005007  1.000000 -0.338481 -0.064910 -0.035322   \n",
       "Pclass                   -0.035144 -0.338481  1.000000 -0.339898  0.083081   \n",
       "Age                       0.034212 -0.064910 -0.339898  1.000000 -0.233296   \n",
       "SibSp                    -0.057527 -0.035322  0.083081 -0.233296  1.000000   \n",
       "Parch                    -0.001652  0.081629  0.018443 -0.172482  0.414838   \n",
       "Fare                      0.012658  0.257307 -0.549500  0.096688  0.159651   \n",
       "Sex_male                  0.042939 -0.543351  0.131900  0.081163 -0.114631   \n",
       "Embarked_Q               -0.033606  0.003650  0.221009 -0.031415 -0.026354   \n",
       "Embarked_S                0.022204 -0.149683  0.074053 -0.006729  0.068734   \n",
       "Single_Traveller_Yes      0.057462 -0.203367  0.135207  0.171647 -0.584471   \n",
       "Person_Mid aged Adult     0.039247  0.046655 -0.129423  0.314341 -0.076971   \n",
       "Person_Old Adults         0.038757 -0.011082 -0.318370  0.704521 -0.069652   \n",
       "Person_Teenager          -0.007762  0.018958  0.059530 -0.322459  0.014235   \n",
       "Person_Young Adult       -0.044753 -0.106214  0.214539 -0.222335 -0.089146   \n",
       "\n",
       "                          Parch      Fare  Sex_male  Embarked_Q  Embarked_S  \\\n",
       "PassengerId           -0.001652  0.012658  0.042939   -0.033606    0.022204   \n",
       "Survived               0.081629  0.257307 -0.543351    0.003650   -0.149683   \n",
       "Pclass                 0.018443 -0.549500  0.131900    0.221009    0.074053   \n",
       "Age                   -0.172482  0.096688  0.081163   -0.031415   -0.006729   \n",
       "SibSp                  0.414838  0.159651 -0.114631   -0.026354    0.068734   \n",
       "Parch                  1.000000  0.216225 -0.245489   -0.081228    0.060814   \n",
       "Fare                   0.216225  1.000000 -0.182333   -0.117216   -0.162184   \n",
       "Sex_male              -0.245489 -0.182333  1.000000   -0.074115    0.119224   \n",
       "Embarked_Q            -0.081228 -0.117216 -0.074115    1.000000   -0.499421   \n",
       "Embarked_S             0.060814 -0.162184  0.119224   -0.499421    1.000000   \n",
       "Single_Traveller_Yes  -0.583398 -0.271832  0.303646    0.086464    0.029074   \n",
       "Person_Mid aged Adult  0.039655  0.098783 -0.010170   -0.080675    0.099321   \n",
       "Person_Old Adults     -0.049253  0.089407  0.046279   -0.073719   -0.005329   \n",
       "Person_Teenager        0.007893 -0.001543 -0.072473   -0.028600    0.017285   \n",
       "Person_Young Adult    -0.203775 -0.137053  0.059843    0.148243   -0.110562   \n",
       "\n",
       "                       Single_Traveller_Yes  Person_Mid aged Adult  \\\n",
       "PassengerId                        0.057462               0.039247   \n",
       "Survived                          -0.203367               0.046655   \n",
       "Pclass                             0.135207              -0.129423   \n",
       "Age                                0.171647               0.314341   \n",
       "SibSp                             -0.584471              -0.076971   \n",
       "Parch                             -0.583398               0.039655   \n",
       "Fare                              -0.271832               0.098783   \n",
       "Sex_male                           0.303646              -0.010170   \n",
       "Embarked_Q                         0.086464              -0.080675   \n",
       "Embarked_S                         0.029074               0.099321   \n",
       "Single_Traveller_Yes               1.000000              -0.031465   \n",
       "Person_Mid aged Adult             -0.031465               1.000000   \n",
       "Person_Old Adults                  0.020964              -0.195759   \n",
       "Person_Teenager                   -0.039059              -0.187056   \n",
       "Person_Young Adult                 0.218943              -0.513613   \n",
       "\n",
       "                       Person_Old Adults  Person_Teenager  Person_Young Adult  \n",
       "PassengerId                     0.038757        -0.007762           -0.044753  \n",
       "Survived                       -0.011082         0.018958           -0.106214  \n",
       "Pclass                         -0.318370         0.059530            0.214539  \n",
       "Age                             0.704521        -0.322459           -0.222335  \n",
       "SibSp                          -0.069652         0.014235           -0.089146  \n",
       "Parch                          -0.049253         0.007893           -0.203775  \n",
       "Fare                            0.089407        -0.001543           -0.137053  \n",
       "Sex_male                        0.046279        -0.072473            0.059843  \n",
       "Embarked_Q                     -0.073719        -0.028600            0.148243  \n",
       "Embarked_S                     -0.005329         0.017285           -0.110562  \n",
       "Single_Traveller_Yes            0.020964        -0.039059            0.218943  \n",
       "Person_Mid aged Adult          -0.195759        -0.187056           -0.513613  \n",
       "Person_Old Adults               1.000000        -0.124900           -0.342946  \n",
       "Person_Teenager                -0.124900         1.000000           -0.327699  \n",
       "Person_Young Adult             -0.342946        -0.327699            1.000000  "
      ]
     },
     "execution_count": 55,
     "metadata": {},
     "output_type": "execute_result"
    }
   ],
   "source": [
    "train_df_dummies.corr()"
   ]
  },
  {
   "cell_type": "code",
   "execution_count": 56,
   "metadata": {},
   "outputs": [],
   "source": [
    "# Getting the columns that are having multi collinearity\n",
    "# Creating a dataframe with correlated column, the correlation value and the source column to which it is correlated\n",
    "# Filtering only those that are correlated more than 96%\n",
    "multi_col_df = pd.DataFrame(columns=['corr_col','corr_val','source_col'])\n",
    "for i in corr_mat:\n",
    "    temp_df = pd.DataFrame(corr_mat[corr_mat[i]>0.9][i])\n",
    "    temp_df = temp_df.reset_index()\n",
    "    temp_df['source_col'] = i\n",
    "    temp_df.columns = ['corr_col','corr_val','source_col']\n",
    "    multi_col_df = pd.concat((multi_col_df,temp_df),axis=0)"
   ]
  },
  {
   "cell_type": "code",
   "execution_count": 57,
   "metadata": {},
   "outputs": [
    {
     "data": {
      "text/html": [
       "<div>\n",
       "<style scoped>\n",
       "    .dataframe tbody tr th:only-of-type {\n",
       "        vertical-align: middle;\n",
       "    }\n",
       "\n",
       "    .dataframe tbody tr th {\n",
       "        vertical-align: top;\n",
       "    }\n",
       "\n",
       "    .dataframe thead th {\n",
       "        text-align: right;\n",
       "    }\n",
       "</style>\n",
       "<table border=\"1\" class=\"dataframe\">\n",
       "  <thead>\n",
       "    <tr style=\"text-align: right;\">\n",
       "      <th></th>\n",
       "      <th>corr_col</th>\n",
       "      <th>corr_val</th>\n",
       "      <th>source_col</th>\n",
       "    </tr>\n",
       "  </thead>\n",
       "  <tbody>\n",
       "    <tr>\n",
       "      <th>0</th>\n",
       "      <td>PassengerId</td>\n",
       "      <td>1.0</td>\n",
       "      <td>PassengerId</td>\n",
       "    </tr>\n",
       "    <tr>\n",
       "      <th>0</th>\n",
       "      <td>Survived</td>\n",
       "      <td>1.0</td>\n",
       "      <td>Survived</td>\n",
       "    </tr>\n",
       "    <tr>\n",
       "      <th>0</th>\n",
       "      <td>Pclass</td>\n",
       "      <td>1.0</td>\n",
       "      <td>Pclass</td>\n",
       "    </tr>\n",
       "    <tr>\n",
       "      <th>0</th>\n",
       "      <td>Age</td>\n",
       "      <td>1.0</td>\n",
       "      <td>Age</td>\n",
       "    </tr>\n",
       "    <tr>\n",
       "      <th>0</th>\n",
       "      <td>SibSp</td>\n",
       "      <td>1.0</td>\n",
       "      <td>SibSp</td>\n",
       "    </tr>\n",
       "    <tr>\n",
       "      <th>0</th>\n",
       "      <td>Parch</td>\n",
       "      <td>1.0</td>\n",
       "      <td>Parch</td>\n",
       "    </tr>\n",
       "    <tr>\n",
       "      <th>0</th>\n",
       "      <td>Fare</td>\n",
       "      <td>1.0</td>\n",
       "      <td>Fare</td>\n",
       "    </tr>\n",
       "    <tr>\n",
       "      <th>0</th>\n",
       "      <td>Sex_male</td>\n",
       "      <td>1.0</td>\n",
       "      <td>Sex_male</td>\n",
       "    </tr>\n",
       "    <tr>\n",
       "      <th>0</th>\n",
       "      <td>Embarked_Q</td>\n",
       "      <td>1.0</td>\n",
       "      <td>Embarked_Q</td>\n",
       "    </tr>\n",
       "    <tr>\n",
       "      <th>0</th>\n",
       "      <td>Embarked_S</td>\n",
       "      <td>1.0</td>\n",
       "      <td>Embarked_S</td>\n",
       "    </tr>\n",
       "    <tr>\n",
       "      <th>0</th>\n",
       "      <td>Single_Traveller_Yes</td>\n",
       "      <td>1.0</td>\n",
       "      <td>Single_Traveller_Yes</td>\n",
       "    </tr>\n",
       "    <tr>\n",
       "      <th>0</th>\n",
       "      <td>Person_Mid aged Adult</td>\n",
       "      <td>1.0</td>\n",
       "      <td>Person_Mid aged Adult</td>\n",
       "    </tr>\n",
       "    <tr>\n",
       "      <th>0</th>\n",
       "      <td>Person_Old Adults</td>\n",
       "      <td>1.0</td>\n",
       "      <td>Person_Old Adults</td>\n",
       "    </tr>\n",
       "    <tr>\n",
       "      <th>0</th>\n",
       "      <td>Person_Teenager</td>\n",
       "      <td>1.0</td>\n",
       "      <td>Person_Teenager</td>\n",
       "    </tr>\n",
       "    <tr>\n",
       "      <th>0</th>\n",
       "      <td>Person_Young Adult</td>\n",
       "      <td>1.0</td>\n",
       "      <td>Person_Young Adult</td>\n",
       "    </tr>\n",
       "  </tbody>\n",
       "</table>\n",
       "</div>"
      ],
      "text/plain": [
       "                corr_col  corr_val             source_col\n",
       "0            PassengerId       1.0            PassengerId\n",
       "0               Survived       1.0               Survived\n",
       "0                 Pclass       1.0                 Pclass\n",
       "0                    Age       1.0                    Age\n",
       "0                  SibSp       1.0                  SibSp\n",
       "0                  Parch       1.0                  Parch\n",
       "0                   Fare       1.0                   Fare\n",
       "0               Sex_male       1.0               Sex_male\n",
       "0             Embarked_Q       1.0             Embarked_Q\n",
       "0             Embarked_S       1.0             Embarked_S\n",
       "0   Single_Traveller_Yes       1.0   Single_Traveller_Yes\n",
       "0  Person_Mid aged Adult       1.0  Person_Mid aged Adult\n",
       "0      Person_Old Adults       1.0      Person_Old Adults\n",
       "0        Person_Teenager       1.0        Person_Teenager\n",
       "0     Person_Young Adult       1.0     Person_Young Adult"
      ]
     },
     "execution_count": 57,
     "metadata": {},
     "output_type": "execute_result"
    }
   ],
   "source": [
    "multi_col_df"
   ]
  },
  {
   "cell_type": "code",
   "execution_count": 58,
   "metadata": {},
   "outputs": [],
   "source": [
    "X = train_df_dummies.drop(['Survived','PassengerId'],axis=1)\n",
    "X_id = train_df_dummies['PassengerId']\n",
    "y = train_df_dummies['Survived']"
   ]
  },
  {
   "cell_type": "code",
   "execution_count": 59,
   "metadata": {},
   "outputs": [],
   "source": [
    "X_trainval, X_test, y_trainval, y_test = train_test_split(X,y, test_size=0.20,random_state=1)\n",
    "X_train, X_val, y_train, y_val = train_test_split(X_trainval,y_trainval, test_size=0.20,random_state=1)"
   ]
  },
  {
   "cell_type": "code",
   "execution_count": 60,
   "metadata": {},
   "outputs": [],
   "source": [
    "X_trainval_z =X_trainval.apply(zscore)\n",
    "X_train_z =X_train.apply(zscore)\n",
    "X_val_z =X_val.apply(zscore)\n",
    "X_test_z =X_test.apply(zscore)\n",
    "X_z = X.apply(zscore)"
   ]
  },
  {
   "cell_type": "code",
   "execution_count": 61,
   "metadata": {},
   "outputs": [],
   "source": [
    "# Grid Search based on Max_features, Min_Samples_Split and Max_Depth\n",
    "param_grid = [\n",
    "{\n",
    "'n_neighbors': list(range(1,50)),\n",
    "'algorithm': ['auto', 'ball_tree', 'kd_tree','brute'],\n",
    "'leaf_size': [10,15,20,30],\n",
    "'n_jobs': [-1], \n",
    "'weights' : ['uniform','distance']\n",
    "}\n",
    "]\n",
    "\n"
   ]
  },
  {
   "cell_type": "code",
   "execution_count": 62,
   "metadata": {},
   "outputs": [
    {
     "data": {
      "text/plain": [
       "GridSearchCV(cv=3, error_score=nan,\n",
       "             estimator=KNeighborsClassifier(algorithm='auto', leaf_size=30,\n",
       "                                            metric='minkowski',\n",
       "                                            metric_params=None, n_jobs=None,\n",
       "                                            n_neighbors=5, p=2,\n",
       "                                            weights='uniform'),\n",
       "             iid='deprecated', n_jobs=4,\n",
       "             param_grid=[{'algorithm': ['auto', 'ball_tree', 'kd_tree',\n",
       "                                        'brute'],\n",
       "                          'leaf_size': [10, 15, 20, 30], 'n_jobs': [-1],\n",
       "                          'n_neighbors': [1, 2, 3, 4, 5, 6, 7, 8, 9, 10, 11, 12,\n",
       "                                          13, 14, 15, 16, 17, 18, 19, 20, 21,\n",
       "                                          22, 23, 24, 25, 26, 27, 28, 29, 30, ...],\n",
       "                          'weights': ['uniform', 'distance']}],\n",
       "             pre_dispatch='2*n_jobs', refit=True, return_train_score=False,\n",
       "             scoring='accuracy', verbose=0)"
      ]
     },
     "execution_count": 62,
     "metadata": {},
     "output_type": "execute_result"
    }
   ],
   "source": [
    "import multiprocessing\n",
    "gs = GridSearchCV(estimator=KNeighborsClassifier(), param_grid=param_grid, scoring='accuracy', n_jobs=multiprocessing.cpu_count(),cv=3)\n",
    "gs.fit(X_train_z, y_train)"
   ]
  },
  {
   "cell_type": "code",
   "execution_count": 63,
   "metadata": {},
   "outputs": [
    {
     "data": {
      "text/plain": [
       "KNeighborsClassifier(algorithm='auto', leaf_size=10, metric='minkowski',\n",
       "                     metric_params=None, n_jobs=-1, n_neighbors=8, p=2,\n",
       "                     weights='uniform')"
      ]
     },
     "execution_count": 63,
     "metadata": {},
     "output_type": "execute_result"
    }
   ],
   "source": [
    "gs.best_estimator_"
   ]
  },
  {
   "cell_type": "code",
   "execution_count": 64,
   "metadata": {},
   "outputs": [
    {
     "data": {
      "text/plain": [
       "0.8031189083820663"
      ]
     },
     "execution_count": 64,
     "metadata": {},
     "output_type": "execute_result"
    }
   ],
   "source": [
    "gs.best_score_"
   ]
  },
  {
   "cell_type": "code",
   "execution_count": 65,
   "metadata": {},
   "outputs": [],
   "source": [
    "knn_clfr = KNeighborsClassifier(algorithm='auto', leaf_size=10, metric='minkowski',\n",
    "                     metric_params=None, n_jobs=-1, n_neighbors=6, p=2,\n",
    "                     weights='uniform')"
   ]
  },
  {
   "cell_type": "code",
   "execution_count": 66,
   "metadata": {},
   "outputs": [],
   "source": [
    "sfs1 = sfs(knn_clfr, k_features=8, forward=False, scoring='accuracy', cv=10,n_jobs=-1)"
   ]
  },
  {
   "cell_type": "code",
   "execution_count": 67,
   "metadata": {},
   "outputs": [],
   "source": [
    "sfs1 = sfs1.fit(X_train_z.values, y_train.values)"
   ]
  },
  {
   "cell_type": "code",
   "execution_count": 68,
   "metadata": {},
   "outputs": [
    {
     "data": {
      "text/html": [
       "<div>\n",
       "<style scoped>\n",
       "    .dataframe tbody tr th:only-of-type {\n",
       "        vertical-align: middle;\n",
       "    }\n",
       "\n",
       "    .dataframe tbody tr th {\n",
       "        vertical-align: top;\n",
       "    }\n",
       "\n",
       "    .dataframe thead th {\n",
       "        text-align: right;\n",
       "    }\n",
       "</style>\n",
       "<table border=\"1\" class=\"dataframe\">\n",
       "  <thead>\n",
       "    <tr style=\"text-align: right;\">\n",
       "      <th></th>\n",
       "      <th>Pclass</th>\n",
       "      <th>Age</th>\n",
       "      <th>SibSp</th>\n",
       "      <th>Parch</th>\n",
       "      <th>Fare</th>\n",
       "      <th>Sex_male</th>\n",
       "      <th>Embarked_Q</th>\n",
       "      <th>Embarked_S</th>\n",
       "      <th>Single_Traveller_Yes</th>\n",
       "      <th>Person_Mid aged Adult</th>\n",
       "      <th>Person_Old Adults</th>\n",
       "      <th>Person_Teenager</th>\n",
       "      <th>Person_Young Adult</th>\n",
       "    </tr>\n",
       "  </thead>\n",
       "  <tbody>\n",
       "    <tr>\n",
       "      <th>454</th>\n",
       "      <td>0.852414</td>\n",
       "      <td>-0.128624</td>\n",
       "      <td>-0.487624</td>\n",
       "      <td>-0.487479</td>\n",
       "      <td>-0.509601</td>\n",
       "      <td>0.733374</td>\n",
       "      <td>-0.317144</td>\n",
       "      <td>0.617307</td>\n",
       "      <td>0.820688</td>\n",
       "      <td>-0.538748</td>\n",
       "      <td>-0.389643</td>\n",
       "      <td>-0.346524</td>\n",
       "      <td>1.101820</td>\n",
       "    </tr>\n",
       "    <tr>\n",
       "      <th>167</th>\n",
       "      <td>0.852414</td>\n",
       "      <td>1.116903</td>\n",
       "      <td>0.446578</td>\n",
       "      <td>4.846668</td>\n",
       "      <td>-0.088809</td>\n",
       "      <td>-1.363560</td>\n",
       "      <td>-0.317144</td>\n",
       "      <td>0.617307</td>\n",
       "      <td>-1.218489</td>\n",
       "      <td>1.856155</td>\n",
       "      <td>-0.389643</td>\n",
       "      <td>-0.346524</td>\n",
       "      <td>-0.907589</td>\n",
       "    </tr>\n",
       "    <tr>\n",
       "      <th>657</th>\n",
       "      <td>0.852414</td>\n",
       "      <td>0.164441</td>\n",
       "      <td>0.446578</td>\n",
       "      <td>0.846058</td>\n",
       "      <td>-0.351671</td>\n",
       "      <td>-1.363560</td>\n",
       "      <td>3.153143</td>\n",
       "      <td>-1.619939</td>\n",
       "      <td>-1.218489</td>\n",
       "      <td>1.856155</td>\n",
       "      <td>-0.389643</td>\n",
       "      <td>-0.346524</td>\n",
       "      <td>-0.907589</td>\n",
       "    </tr>\n",
       "    <tr>\n",
       "      <th>364</th>\n",
       "      <td>0.852414</td>\n",
       "      <td>-0.128624</td>\n",
       "      <td>0.446578</td>\n",
       "      <td>-0.487479</td>\n",
       "      <td>-0.351671</td>\n",
       "      <td>0.733374</td>\n",
       "      <td>3.153143</td>\n",
       "      <td>-1.619939</td>\n",
       "      <td>-1.218489</td>\n",
       "      <td>-0.538748</td>\n",
       "      <td>-0.389643</td>\n",
       "      <td>-0.346524</td>\n",
       "      <td>1.101820</td>\n",
       "    </tr>\n",
       "    <tr>\n",
       "      <th>99</th>\n",
       "      <td>-0.345175</td>\n",
       "      <td>0.310974</td>\n",
       "      <td>0.446578</td>\n",
       "      <td>-0.487479</td>\n",
       "      <td>-0.129087</td>\n",
       "      <td>0.733374</td>\n",
       "      <td>-0.317144</td>\n",
       "      <td>0.617307</td>\n",
       "      <td>-1.218489</td>\n",
       "      <td>1.856155</td>\n",
       "      <td>-0.389643</td>\n",
       "      <td>-0.346524</td>\n",
       "      <td>-0.907589</td>\n",
       "    </tr>\n",
       "  </tbody>\n",
       "</table>\n",
       "</div>"
      ],
      "text/plain": [
       "       Pclass       Age     SibSp     Parch      Fare  Sex_male  Embarked_Q  \\\n",
       "454  0.852414 -0.128624 -0.487624 -0.487479 -0.509601  0.733374   -0.317144   \n",
       "167  0.852414  1.116903  0.446578  4.846668 -0.088809 -1.363560   -0.317144   \n",
       "657  0.852414  0.164441  0.446578  0.846058 -0.351671 -1.363560    3.153143   \n",
       "364  0.852414 -0.128624  0.446578 -0.487479 -0.351671  0.733374    3.153143   \n",
       "99  -0.345175  0.310974  0.446578 -0.487479 -0.129087  0.733374   -0.317144   \n",
       "\n",
       "     Embarked_S  Single_Traveller_Yes  Person_Mid aged Adult  \\\n",
       "454    0.617307              0.820688              -0.538748   \n",
       "167    0.617307             -1.218489               1.856155   \n",
       "657   -1.619939             -1.218489               1.856155   \n",
       "364   -1.619939             -1.218489              -0.538748   \n",
       "99     0.617307             -1.218489               1.856155   \n",
       "\n",
       "     Person_Old Adults  Person_Teenager  Person_Young Adult  \n",
       "454          -0.389643        -0.346524            1.101820  \n",
       "167          -0.389643        -0.346524           -0.907589  \n",
       "657          -0.389643        -0.346524           -0.907589  \n",
       "364          -0.389643        -0.346524            1.101820  \n",
       "99           -0.389643        -0.346524           -0.907589  "
      ]
     },
     "execution_count": 68,
     "metadata": {},
     "output_type": "execute_result"
    }
   ],
   "source": [
    "X_train_z.head()"
   ]
  },
  {
   "cell_type": "code",
   "execution_count": 69,
   "metadata": {},
   "outputs": [
    {
     "data": {
      "text/plain": [
       "{13: {'feature_idx': (0, 1, 2, 3, 4, 5, 6, 7, 8, 9, 10, 11, 12),\n",
       "  'cv_scores': array([0.8245614 , 0.85964912, 0.78947368, 0.78947368, 0.85964912,\n",
       "         0.78947368, 0.77192982, 0.8245614 , 0.75438596, 0.80357143]),\n",
       "  'avg_score': 0.8066729323308272,\n",
       "  'feature_names': ('0',\n",
       "   '1',\n",
       "   '2',\n",
       "   '3',\n",
       "   '4',\n",
       "   '5',\n",
       "   '6',\n",
       "   '7',\n",
       "   '8',\n",
       "   '9',\n",
       "   '10',\n",
       "   '11',\n",
       "   '12'),\n",
       "  'ci_bound': 0.02473470594792698,\n",
       "  'std_dev': 0.03330318385604301,\n",
       "  'std_err': 0.011101061285347668},\n",
       " 12: {'feature_idx': (0, 1, 2, 3, 4, 5, 6, 7, 9, 10, 11, 12),\n",
       "  'cv_scores': array([0.8245614 , 0.87719298, 0.84210526, 0.8245614 , 0.87719298,\n",
       "         0.78947368, 0.80701754, 0.84210526, 0.77192982, 0.80357143]),\n",
       "  'avg_score': 0.8259711779448621,\n",
       "  'feature_names': ('0',\n",
       "   '1',\n",
       "   '2',\n",
       "   '3',\n",
       "   '4',\n",
       "   '5',\n",
       "   '6',\n",
       "   '7',\n",
       "   '9',\n",
       "   '10',\n",
       "   '11',\n",
       "   '12'),\n",
       "  'ci_bound': 0.02450442102063386,\n",
       "  'std_dev': 0.03299312473146462,\n",
       "  'std_err': 0.010997708243821538},\n",
       " 11: {'feature_idx': (0, 1, 2, 4, 5, 6, 7, 9, 10, 11, 12),\n",
       "  'cv_scores': array([0.84210526, 0.87719298, 0.85964912, 0.8245614 , 0.87719298,\n",
       "         0.77192982, 0.87719298, 0.84210526, 0.80701754, 0.80357143]),\n",
       "  'avg_score': 0.838251879699248,\n",
       "  'feature_names': ('0', '1', '2', '4', '5', '6', '7', '9', '10', '11', '12'),\n",
       "  'ci_bound': 0.025514248345588353,\n",
       "  'std_dev': 0.034352771583002546,\n",
       "  'std_err': 0.011450923861000849},\n",
       " 10: {'feature_idx': (0, 2, 4, 5, 6, 7, 9, 10, 11, 12),\n",
       "  'cv_scores': array([0.8245614 , 0.87719298, 0.87719298, 0.84210526, 0.89473684,\n",
       "         0.8245614 , 0.85964912, 0.84210526, 0.8245614 , 0.82142857]),\n",
       "  'avg_score': 0.8488095238095239,\n",
       "  'feature_names': ('0', '2', '4', '5', '6', '7', '9', '10', '11', '12'),\n",
       "  'ci_bound': 0.018850256183531318,\n",
       "  'std_dev': 0.02538027129715156,\n",
       "  'std_err': 0.008460090432383853},\n",
       " 9: {'feature_idx': (0, 2, 5, 6, 7, 9, 10, 11, 12),\n",
       "  'cv_scores': array([0.85964912, 0.87719298, 0.89473684, 0.84210526, 0.87719298,\n",
       "         0.8245614 , 0.85964912, 0.85964912, 0.8245614 , 0.82142857]),\n",
       "  'avg_score': 0.8540726817042608,\n",
       "  'feature_names': ('0', '2', '5', '6', '7', '9', '10', '11', '12'),\n",
       "  'ci_bound': 0.017835395606351473,\n",
       "  'std_dev': 0.02401384759835263,\n",
       "  'std_err': 0.008004615866117542},\n",
       " 8: {'feature_idx': (0, 2, 5, 7, 9, 10, 11, 12),\n",
       "  'cv_scores': array([0.85964912, 0.87719298, 0.89473684, 0.84210526, 0.89473684,\n",
       "         0.8245614 , 0.85964912, 0.85964912, 0.8245614 , 0.82142857]),\n",
       "  'avg_score': 0.855827067669173,\n",
       "  'feature_names': ('0', '2', '5', '7', '9', '10', '11', '12'),\n",
       "  'ci_bound': 0.019445603327426966,\n",
       "  'std_dev': 0.02618185573616077,\n",
       "  'std_err': 0.008727285245386924}}"
      ]
     },
     "execution_count": 69,
     "metadata": {},
     "output_type": "execute_result"
    }
   ],
   "source": [
    "sfs1.get_metric_dict()"
   ]
  },
  {
   "cell_type": "code",
   "execution_count": 70,
   "metadata": {},
   "outputs": [
    {
     "name": "stdout",
     "output_type": "stream",
     "text": [
      "[0, 2, 5, 7, 9, 10, 11, 12]\n"
     ]
    }
   ],
   "source": [
    "columnList = list(X_train_z.columns)\n",
    "feat_cols = list(sfs1.k_feature_idx_)\n",
    "print(feat_cols)"
   ]
  },
  {
   "cell_type": "code",
   "execution_count": 71,
   "metadata": {},
   "outputs": [
    {
     "name": "stdout",
     "output_type": "stream",
     "text": [
      "['Pclass', 'SibSp', 'Sex_male', 'Embarked_S', 'Person_Mid aged Adult', 'Person_Old Adults', 'Person_Teenager', 'Person_Young Adult']\n"
     ]
    }
   ],
   "source": [
    "subsetColumnList = [columnList[i] for i in feat_cols] \n",
    "print(subsetColumnList)"
   ]
  },
  {
   "cell_type": "code",
   "execution_count": 72,
   "metadata": {},
   "outputs": [
    {
     "data": {
      "text/plain": [
       "PassengerId                int64\n",
       "Survived                   int64\n",
       "Pclass                     int64\n",
       "Age                      float64\n",
       "SibSp                      int64\n",
       "Parch                      int64\n",
       "Fare                     float64\n",
       "Sex_male                   uint8\n",
       "Embarked_Q                 uint8\n",
       "Embarked_S                 uint8\n",
       "Single_Traveller_Yes       uint8\n",
       "Person_Mid aged Adult      uint8\n",
       "Person_Old Adults          uint8\n",
       "Person_Teenager            uint8\n",
       "Person_Young Adult         uint8\n",
       "dtype: object"
      ]
     },
     "execution_count": 72,
     "metadata": {},
     "output_type": "execute_result"
    }
   ],
   "source": [
    "train_df_dummies.dtypes"
   ]
  },
  {
   "cell_type": "code",
   "execution_count": 73,
   "metadata": {},
   "outputs": [],
   "source": [
    "train_df_dummies_knn = train_df_dummies.drop(['Age','Parch','Embarked_Q','Single_Traveller_Yes'],axis=1)\n"
   ]
  },
  {
   "cell_type": "code",
   "execution_count": 74,
   "metadata": {},
   "outputs": [
    {
     "data": {
      "text/html": [
       "<div>\n",
       "<style scoped>\n",
       "    .dataframe tbody tr th:only-of-type {\n",
       "        vertical-align: middle;\n",
       "    }\n",
       "\n",
       "    .dataframe tbody tr th {\n",
       "        vertical-align: top;\n",
       "    }\n",
       "\n",
       "    .dataframe thead th {\n",
       "        text-align: right;\n",
       "    }\n",
       "</style>\n",
       "<table border=\"1\" class=\"dataframe\">\n",
       "  <thead>\n",
       "    <tr style=\"text-align: right;\">\n",
       "      <th></th>\n",
       "      <th>PassengerId</th>\n",
       "      <th>Survived</th>\n",
       "      <th>Pclass</th>\n",
       "      <th>SibSp</th>\n",
       "      <th>Fare</th>\n",
       "      <th>Sex_male</th>\n",
       "      <th>Embarked_S</th>\n",
       "      <th>Person_Mid aged Adult</th>\n",
       "      <th>Person_Old Adults</th>\n",
       "      <th>Person_Teenager</th>\n",
       "      <th>Person_Young Adult</th>\n",
       "    </tr>\n",
       "  </thead>\n",
       "  <tbody>\n",
       "    <tr>\n",
       "      <th>0</th>\n",
       "      <td>1</td>\n",
       "      <td>0</td>\n",
       "      <td>3</td>\n",
       "      <td>1</td>\n",
       "      <td>7.2500</td>\n",
       "      <td>1</td>\n",
       "      <td>1</td>\n",
       "      <td>0</td>\n",
       "      <td>0</td>\n",
       "      <td>0</td>\n",
       "      <td>1</td>\n",
       "    </tr>\n",
       "    <tr>\n",
       "      <th>1</th>\n",
       "      <td>2</td>\n",
       "      <td>1</td>\n",
       "      <td>1</td>\n",
       "      <td>1</td>\n",
       "      <td>71.2833</td>\n",
       "      <td>0</td>\n",
       "      <td>0</td>\n",
       "      <td>1</td>\n",
       "      <td>0</td>\n",
       "      <td>0</td>\n",
       "      <td>0</td>\n",
       "    </tr>\n",
       "    <tr>\n",
       "      <th>2</th>\n",
       "      <td>3</td>\n",
       "      <td>1</td>\n",
       "      <td>3</td>\n",
       "      <td>0</td>\n",
       "      <td>7.9250</td>\n",
       "      <td>0</td>\n",
       "      <td>1</td>\n",
       "      <td>0</td>\n",
       "      <td>0</td>\n",
       "      <td>0</td>\n",
       "      <td>1</td>\n",
       "    </tr>\n",
       "    <tr>\n",
       "      <th>3</th>\n",
       "      <td>4</td>\n",
       "      <td>1</td>\n",
       "      <td>1</td>\n",
       "      <td>1</td>\n",
       "      <td>53.1000</td>\n",
       "      <td>0</td>\n",
       "      <td>1</td>\n",
       "      <td>1</td>\n",
       "      <td>0</td>\n",
       "      <td>0</td>\n",
       "      <td>0</td>\n",
       "    </tr>\n",
       "    <tr>\n",
       "      <th>4</th>\n",
       "      <td>5</td>\n",
       "      <td>0</td>\n",
       "      <td>3</td>\n",
       "      <td>0</td>\n",
       "      <td>8.0500</td>\n",
       "      <td>1</td>\n",
       "      <td>1</td>\n",
       "      <td>1</td>\n",
       "      <td>0</td>\n",
       "      <td>0</td>\n",
       "      <td>0</td>\n",
       "    </tr>\n",
       "  </tbody>\n",
       "</table>\n",
       "</div>"
      ],
      "text/plain": [
       "   PassengerId  Survived  Pclass  SibSp     Fare  Sex_male  Embarked_S  \\\n",
       "0            1         0       3      1   7.2500         1           1   \n",
       "1            2         1       1      1  71.2833         0           0   \n",
       "2            3         1       3      0   7.9250         0           1   \n",
       "3            4         1       1      1  53.1000         0           1   \n",
       "4            5         0       3      0   8.0500         1           1   \n",
       "\n",
       "   Person_Mid aged Adult  Person_Old Adults  Person_Teenager  \\\n",
       "0                      0                  0                0   \n",
       "1                      1                  0                0   \n",
       "2                      0                  0                0   \n",
       "3                      1                  0                0   \n",
       "4                      1                  0                0   \n",
       "\n",
       "   Person_Young Adult  \n",
       "0                   1  \n",
       "1                   0  \n",
       "2                   1  \n",
       "3                   0  \n",
       "4                   0  "
      ]
     },
     "execution_count": 74,
     "metadata": {},
     "output_type": "execute_result"
    }
   ],
   "source": [
    "train_df_dummies_knn.head()"
   ]
  },
  {
   "cell_type": "code",
   "execution_count": 75,
   "metadata": {},
   "outputs": [],
   "source": [
    "X_knn = train_df_dummies_knn.drop(['PassengerId','Survived'],axis=1)\n",
    "X_id_knn = train_df_dummies_knn['PassengerId']\n",
    "y_knn = train_df_dummies_knn['Survived']"
   ]
  },
  {
   "cell_type": "code",
   "execution_count": 76,
   "metadata": {},
   "outputs": [
    {
     "name": "stderr",
     "output_type": "stream",
     "text": [
      "Using TensorFlow backend.\n"
     ]
    }
   ],
   "source": [
    "from imblearn.combine import SMOTETomek\n",
    "smk = SMOTETomek(random_state=1)\n",
    "X_res,y_res=smk.fit_sample(X_knn,y_knn)"
   ]
  },
  {
   "cell_type": "code",
   "execution_count": 77,
   "metadata": {},
   "outputs": [],
   "source": [
    "X_trainval_knn, X_test_knn, y_trainval_knn, y_test_knn = train_test_split(X_res,y_res, test_size=0.20,random_state=1)\n",
    "X_train_knn, X_val_knn, y_train_knn, y_val_knn = train_test_split(X_trainval_knn,y_trainval_knn, test_size=0.20,random_state=1)"
   ]
  },
  {
   "cell_type": "code",
   "execution_count": 78,
   "metadata": {},
   "outputs": [],
   "source": [
    "X_trainval_z_knn =X_trainval_knn.apply(zscore)\n",
    "X_train_z_knn =X_train_knn.apply(zscore)\n",
    "X_val_z_knn =X_val_knn.apply(zscore)\n",
    "X_test_z_knn =X_test_knn.apply(zscore)\n",
    "X_z_knn = X_res.apply(zscore)"
   ]
  },
  {
   "cell_type": "code",
   "execution_count": 79,
   "metadata": {},
   "outputs": [
    {
     "data": {
      "text/plain": [
       "GridSearchCV(cv=10, error_score=nan,\n",
       "             estimator=KNeighborsClassifier(algorithm='auto', leaf_size=30,\n",
       "                                            metric='minkowski',\n",
       "                                            metric_params=None, n_jobs=None,\n",
       "                                            n_neighbors=5, p=2,\n",
       "                                            weights='uniform'),\n",
       "             iid='deprecated', n_jobs=4,\n",
       "             param_grid=[{'algorithm': ['auto', 'ball_tree', 'kd_tree',\n",
       "                                        'brute'],\n",
       "                          'leaf_size': [10, 15, 20, 30], 'n_jobs': [-1],\n",
       "                          'n_neighbors': [1, 2, 3, 4, 5, 6, 7, 8, 9, 10, 11, 12,\n",
       "                                          13, 14, 15, 16, 17, 18, 19, 20, 21,\n",
       "                                          22, 23, 24, 25, 26, 27, 28, 29, 30, ...],\n",
       "                          'weights': ['uniform', 'distance']}],\n",
       "             pre_dispatch='2*n_jobs', refit=True, return_train_score=False,\n",
       "             scoring='accuracy', verbose=0)"
      ]
     },
     "execution_count": 79,
     "metadata": {},
     "output_type": "execute_result"
    }
   ],
   "source": [
    "import multiprocessing\n",
    "gs = GridSearchCV(estimator=KNeighborsClassifier(), param_grid=param_grid, scoring='accuracy', n_jobs=multiprocessing.cpu_count(),cv=10)\n",
    "gs.fit(X_train_z_knn, y_train_knn)"
   ]
  },
  {
   "cell_type": "code",
   "execution_count": 80,
   "metadata": {},
   "outputs": [
    {
     "data": {
      "text/plain": [
       "KNeighborsClassifier(algorithm='brute', leaf_size=10, metric='minkowski',\n",
       "                     metric_params=None, n_jobs=-1, n_neighbors=12, p=2,\n",
       "                     weights='distance')"
      ]
     },
     "execution_count": 80,
     "metadata": {},
     "output_type": "execute_result"
    }
   ],
   "source": [
    "gs.best_estimator_"
   ]
  },
  {
   "cell_type": "code",
   "execution_count": 81,
   "metadata": {},
   "outputs": [
    {
     "data": {
      "text/plain": [
       "0.855684811237928"
      ]
     },
     "execution_count": 81,
     "metadata": {},
     "output_type": "execute_result"
    }
   ],
   "source": [
    "gs.best_score_"
   ]
  },
  {
   "cell_type": "code",
   "execution_count": 82,
   "metadata": {},
   "outputs": [],
   "source": [
    "knnclfr = KNeighborsClassifier(algorithm='auto', leaf_size=10, metric='minkowski',\n",
    "                     metric_params=None, n_jobs=-1, n_neighbors=6, p=2,\n",
    "                     weights='uniform')"
   ]
  },
  {
   "cell_type": "code",
   "execution_count": 83,
   "metadata": {},
   "outputs": [
    {
     "data": {
      "text/plain": [
       "KNeighborsClassifier(algorithm='auto', leaf_size=10, metric='minkowski',\n",
       "                     metric_params=None, n_jobs=-1, n_neighbors=6, p=2,\n",
       "                     weights='uniform')"
      ]
     },
     "execution_count": 83,
     "metadata": {},
     "output_type": "execute_result"
    }
   ],
   "source": [
    "knnclfr.fit(X_train_z_knn, y_train_knn)"
   ]
  },
  {
   "cell_type": "code",
   "execution_count": 84,
   "metadata": {},
   "outputs": [],
   "source": [
    "y_predict_knn = knnclfr.predict(X_val_z_knn)"
   ]
  },
  {
   "cell_type": "code",
   "execution_count": 85,
   "metadata": {},
   "outputs": [
    {
     "name": "stdout",
     "output_type": "stream",
     "text": [
      "0.8705357142857143\n",
      "0.863905325443787\n",
      "              precision    recall  f1-score   support\n",
      "\n",
      "           0       0.84      0.92      0.88        88\n",
      "           1       0.90      0.80      0.85        81\n",
      "\n",
      "    accuracy                           0.86       169\n",
      "   macro avg       0.87      0.86      0.86       169\n",
      "weighted avg       0.87      0.86      0.86       169\n",
      "\n",
      "[[81  7]\n",
      " [16 65]]\n"
     ]
    }
   ],
   "source": [
    "print(knnclfr.score(X_train_z_knn,y_train_knn))\n",
    "print(knnclfr.score(X_val_z_knn,y_val_knn))\n",
    "print(metrics.classification_report(y_val_knn,y_predict_knn))\n",
    "print(metrics.confusion_matrix(y_val_knn,y_predict_knn))\n"
   ]
  },
  {
   "cell_type": "code",
   "execution_count": 86,
   "metadata": {},
   "outputs": [
    {
     "data": {
      "text/plain": [
       "KNeighborsClassifier(algorithm='auto', leaf_size=10, metric='minkowski',\n",
       "                     metric_params=None, n_jobs=-1, n_neighbors=6, p=2,\n",
       "                     weights='uniform')"
      ]
     },
     "execution_count": 86,
     "metadata": {},
     "output_type": "execute_result"
    }
   ],
   "source": [
    "knnclfr.fit(X_trainval_z_knn, y_trainval_knn)"
   ]
  },
  {
   "cell_type": "code",
   "execution_count": 87,
   "metadata": {},
   "outputs": [],
   "source": [
    "y_predict_knn = knnclfr.predict(X_test_z_knn)"
   ]
  },
  {
   "cell_type": "code",
   "execution_count": 88,
   "metadata": {},
   "outputs": [
    {
     "name": "stdout",
     "output_type": "stream",
     "text": [
      "0.8715814506539834\n",
      "0.7914691943127962\n",
      "              precision    recall  f1-score   support\n",
      "\n",
      "           0       0.78      0.86      0.82       115\n",
      "           1       0.81      0.71      0.76        96\n",
      "\n",
      "    accuracy                           0.79       211\n",
      "   macro avg       0.79      0.78      0.79       211\n",
      "weighted avg       0.79      0.79      0.79       211\n",
      "\n",
      "[[99 16]\n",
      " [28 68]]\n"
     ]
    }
   ],
   "source": [
    "print(knnclfr.score(X_trainval_z_knn, y_trainval_knn))\n",
    "print(knnclfr.score(X_test_z_knn,y_test_knn))\n",
    "print(metrics.classification_report(y_test_knn,y_predict_knn))\n",
    "print(metrics.confusion_matrix(y_test_knn,y_predict_knn))\n"
   ]
  },
  {
   "cell_type": "code",
   "execution_count": 89,
   "metadata": {},
   "outputs": [
    {
     "data": {
      "text/plain": [
       "KNeighborsClassifier(algorithm='auto', leaf_size=10, metric='minkowski',\n",
       "                     metric_params=None, n_jobs=-1, n_neighbors=6, p=2,\n",
       "                     weights='uniform')"
      ]
     },
     "execution_count": 89,
     "metadata": {},
     "output_type": "execute_result"
    }
   ],
   "source": [
    "knnclfr.fit(X_z_knn,y_res)"
   ]
  },
  {
   "cell_type": "code",
   "execution_count": 90,
   "metadata": {},
   "outputs": [
    {
     "data": {
      "text/html": [
       "<div>\n",
       "<style scoped>\n",
       "    .dataframe tbody tr th:only-of-type {\n",
       "        vertical-align: middle;\n",
       "    }\n",
       "\n",
       "    .dataframe tbody tr th {\n",
       "        vertical-align: top;\n",
       "    }\n",
       "\n",
       "    .dataframe thead th {\n",
       "        text-align: right;\n",
       "    }\n",
       "</style>\n",
       "<table border=\"1\" class=\"dataframe\">\n",
       "  <thead>\n",
       "    <tr style=\"text-align: right;\">\n",
       "      <th></th>\n",
       "      <th>PassengerId</th>\n",
       "      <th>Pclass</th>\n",
       "      <th>Sex</th>\n",
       "      <th>Age</th>\n",
       "      <th>SibSp</th>\n",
       "      <th>Parch</th>\n",
       "      <th>Fare</th>\n",
       "      <th>Embarked</th>\n",
       "      <th>Single_Traveller</th>\n",
       "      <th>Person</th>\n",
       "    </tr>\n",
       "  </thead>\n",
       "  <tbody>\n",
       "    <tr>\n",
       "      <th>0</th>\n",
       "      <td>892</td>\n",
       "      <td>3</td>\n",
       "      <td>male</td>\n",
       "      <td>34.5</td>\n",
       "      <td>0</td>\n",
       "      <td>0</td>\n",
       "      <td>7.8292</td>\n",
       "      <td>Q</td>\n",
       "      <td>Yes</td>\n",
       "      <td>Mid aged Adult</td>\n",
       "    </tr>\n",
       "    <tr>\n",
       "      <th>1</th>\n",
       "      <td>893</td>\n",
       "      <td>3</td>\n",
       "      <td>female</td>\n",
       "      <td>47.0</td>\n",
       "      <td>1</td>\n",
       "      <td>0</td>\n",
       "      <td>7.0000</td>\n",
       "      <td>S</td>\n",
       "      <td>No</td>\n",
       "      <td>Old Adults</td>\n",
       "    </tr>\n",
       "    <tr>\n",
       "      <th>2</th>\n",
       "      <td>894</td>\n",
       "      <td>2</td>\n",
       "      <td>male</td>\n",
       "      <td>62.0</td>\n",
       "      <td>0</td>\n",
       "      <td>0</td>\n",
       "      <td>9.6875</td>\n",
       "      <td>Q</td>\n",
       "      <td>Yes</td>\n",
       "      <td>Old Adults</td>\n",
       "    </tr>\n",
       "    <tr>\n",
       "      <th>3</th>\n",
       "      <td>895</td>\n",
       "      <td>3</td>\n",
       "      <td>male</td>\n",
       "      <td>27.0</td>\n",
       "      <td>0</td>\n",
       "      <td>0</td>\n",
       "      <td>8.6625</td>\n",
       "      <td>S</td>\n",
       "      <td>Yes</td>\n",
       "      <td>Young Adult</td>\n",
       "    </tr>\n",
       "    <tr>\n",
       "      <th>4</th>\n",
       "      <td>896</td>\n",
       "      <td>3</td>\n",
       "      <td>female</td>\n",
       "      <td>22.0</td>\n",
       "      <td>1</td>\n",
       "      <td>1</td>\n",
       "      <td>12.2875</td>\n",
       "      <td>S</td>\n",
       "      <td>No</td>\n",
       "      <td>Young Adult</td>\n",
       "    </tr>\n",
       "  </tbody>\n",
       "</table>\n",
       "</div>"
      ],
      "text/plain": [
       "   PassengerId  Pclass     Sex   Age  SibSp  Parch     Fare Embarked  \\\n",
       "0          892       3    male  34.5      0      0   7.8292        Q   \n",
       "1          893       3  female  47.0      1      0   7.0000        S   \n",
       "2          894       2    male  62.0      0      0   9.6875        Q   \n",
       "3          895       3    male  27.0      0      0   8.6625        S   \n",
       "4          896       3  female  22.0      1      1  12.2875        S   \n",
       "\n",
       "  Single_Traveller          Person  \n",
       "0              Yes  Mid aged Adult  \n",
       "1               No      Old Adults  \n",
       "2              Yes      Old Adults  \n",
       "3              Yes     Young Adult  \n",
       "4               No     Young Adult  "
      ]
     },
     "execution_count": 90,
     "metadata": {},
     "output_type": "execute_result"
    }
   ],
   "source": [
    "test_df.head()"
   ]
  },
  {
   "cell_type": "code",
   "execution_count": 91,
   "metadata": {},
   "outputs": [],
   "source": [
    "test_df['Fare'].fillna(test_df['Fare'].median(),inplace=True)"
   ]
  },
  {
   "cell_type": "code",
   "execution_count": 92,
   "metadata": {},
   "outputs": [],
   "source": [
    "col = []\n",
    "for c in test_df.columns:\n",
    "    if test_df[c].dtypes=='object':\n",
    "        col.append(c)\n",
    "        \n",
    "\n",
    "test_df_dummies = pd.get_dummies(test_df , columns=col, drop_first=True)"
   ]
  },
  {
   "cell_type": "code",
   "execution_count": 93,
   "metadata": {},
   "outputs": [
    {
     "data": {
      "text/html": [
       "<div>\n",
       "<style scoped>\n",
       "    .dataframe tbody tr th:only-of-type {\n",
       "        vertical-align: middle;\n",
       "    }\n",
       "\n",
       "    .dataframe tbody tr th {\n",
       "        vertical-align: top;\n",
       "    }\n",
       "\n",
       "    .dataframe thead th {\n",
       "        text-align: right;\n",
       "    }\n",
       "</style>\n",
       "<table border=\"1\" class=\"dataframe\">\n",
       "  <thead>\n",
       "    <tr style=\"text-align: right;\">\n",
       "      <th></th>\n",
       "      <th>PassengerId</th>\n",
       "      <th>Pclass</th>\n",
       "      <th>Age</th>\n",
       "      <th>SibSp</th>\n",
       "      <th>Parch</th>\n",
       "      <th>Fare</th>\n",
       "      <th>Sex_male</th>\n",
       "      <th>Embarked_Q</th>\n",
       "      <th>Embarked_S</th>\n",
       "      <th>Single_Traveller_Yes</th>\n",
       "      <th>Person_Mid aged Adult</th>\n",
       "      <th>Person_Old Adults</th>\n",
       "      <th>Person_Teenager</th>\n",
       "      <th>Person_Young Adult</th>\n",
       "    </tr>\n",
       "  </thead>\n",
       "  <tbody>\n",
       "    <tr>\n",
       "      <th>0</th>\n",
       "      <td>892</td>\n",
       "      <td>3</td>\n",
       "      <td>34.5</td>\n",
       "      <td>0</td>\n",
       "      <td>0</td>\n",
       "      <td>7.8292</td>\n",
       "      <td>1</td>\n",
       "      <td>1</td>\n",
       "      <td>0</td>\n",
       "      <td>1</td>\n",
       "      <td>1</td>\n",
       "      <td>0</td>\n",
       "      <td>0</td>\n",
       "      <td>0</td>\n",
       "    </tr>\n",
       "    <tr>\n",
       "      <th>1</th>\n",
       "      <td>893</td>\n",
       "      <td>3</td>\n",
       "      <td>47.0</td>\n",
       "      <td>1</td>\n",
       "      <td>0</td>\n",
       "      <td>7.0000</td>\n",
       "      <td>0</td>\n",
       "      <td>0</td>\n",
       "      <td>1</td>\n",
       "      <td>0</td>\n",
       "      <td>0</td>\n",
       "      <td>1</td>\n",
       "      <td>0</td>\n",
       "      <td>0</td>\n",
       "    </tr>\n",
       "    <tr>\n",
       "      <th>2</th>\n",
       "      <td>894</td>\n",
       "      <td>2</td>\n",
       "      <td>62.0</td>\n",
       "      <td>0</td>\n",
       "      <td>0</td>\n",
       "      <td>9.6875</td>\n",
       "      <td>1</td>\n",
       "      <td>1</td>\n",
       "      <td>0</td>\n",
       "      <td>1</td>\n",
       "      <td>0</td>\n",
       "      <td>1</td>\n",
       "      <td>0</td>\n",
       "      <td>0</td>\n",
       "    </tr>\n",
       "    <tr>\n",
       "      <th>3</th>\n",
       "      <td>895</td>\n",
       "      <td>3</td>\n",
       "      <td>27.0</td>\n",
       "      <td>0</td>\n",
       "      <td>0</td>\n",
       "      <td>8.6625</td>\n",
       "      <td>1</td>\n",
       "      <td>0</td>\n",
       "      <td>1</td>\n",
       "      <td>1</td>\n",
       "      <td>0</td>\n",
       "      <td>0</td>\n",
       "      <td>0</td>\n",
       "      <td>1</td>\n",
       "    </tr>\n",
       "    <tr>\n",
       "      <th>4</th>\n",
       "      <td>896</td>\n",
       "      <td>3</td>\n",
       "      <td>22.0</td>\n",
       "      <td>1</td>\n",
       "      <td>1</td>\n",
       "      <td>12.2875</td>\n",
       "      <td>0</td>\n",
       "      <td>0</td>\n",
       "      <td>1</td>\n",
       "      <td>0</td>\n",
       "      <td>0</td>\n",
       "      <td>0</td>\n",
       "      <td>0</td>\n",
       "      <td>1</td>\n",
       "    </tr>\n",
       "  </tbody>\n",
       "</table>\n",
       "</div>"
      ],
      "text/plain": [
       "   PassengerId  Pclass   Age  SibSp  Parch     Fare  Sex_male  Embarked_Q  \\\n",
       "0          892       3  34.5      0      0   7.8292         1           1   \n",
       "1          893       3  47.0      1      0   7.0000         0           0   \n",
       "2          894       2  62.0      0      0   9.6875         1           1   \n",
       "3          895       3  27.0      0      0   8.6625         1           0   \n",
       "4          896       3  22.0      1      1  12.2875         0           0   \n",
       "\n",
       "   Embarked_S  Single_Traveller_Yes  Person_Mid aged Adult  Person_Old Adults  \\\n",
       "0           0                     1                      1                  0   \n",
       "1           1                     0                      0                  1   \n",
       "2           0                     1                      0                  1   \n",
       "3           1                     1                      0                  0   \n",
       "4           1                     0                      0                  0   \n",
       "\n",
       "   Person_Teenager  Person_Young Adult  \n",
       "0                0                   0  \n",
       "1                0                   0  \n",
       "2                0                   0  \n",
       "3                0                   1  \n",
       "4                0                   1  "
      ]
     },
     "execution_count": 93,
     "metadata": {},
     "output_type": "execute_result"
    }
   ],
   "source": [
    "test_df_dummies.head()"
   ]
  },
  {
   "cell_type": "code",
   "execution_count": 94,
   "metadata": {},
   "outputs": [],
   "source": [
    "test_df_dummies_knn = test_df_dummies.drop(['Age','Parch','Embarked_Q','Single_Traveller_Yes'],axis=1,inplace=True)\n"
   ]
  },
  {
   "cell_type": "code",
   "execution_count": 95,
   "metadata": {},
   "outputs": [],
   "source": [
    "test_df_dummies_knn"
   ]
  },
  {
   "cell_type": "code",
   "execution_count": 96,
   "metadata": {},
   "outputs": [],
   "source": [
    "X_test_knn = test_df_dummies.drop(['PassengerId'],axis=1)\n",
    "X_test_id_knn = test_df_dummies['PassengerId']\n"
   ]
  },
  {
   "cell_type": "code",
   "execution_count": 97,
   "metadata": {},
   "outputs": [],
   "source": [
    "X_test_knn =X_test_knn.apply(zscore)\n"
   ]
  },
  {
   "cell_type": "code",
   "execution_count": 98,
   "metadata": {},
   "outputs": [],
   "source": [
    "y_predict = knnclfr.predict(X_test_knn)"
   ]
  },
  {
   "cell_type": "code",
   "execution_count": 99,
   "metadata": {},
   "outputs": [],
   "source": [
    "final_pred_df = pd.DataFrame(y_predict)\n",
    "final_pred_df.columns = ['Survived']\n",
    "X_test_id_knn = pd.DataFrame(X_test_id_knn)\n",
    "final_pred = X_test_id_knn.merge(final_pred_df, left_index=True, right_index=True)\n",
    "final_pred.shape\n",
    "final_pred.to_csv('csv_to_submit2602-2.csv', index = False)"
   ]
  },
  {
   "cell_type": "code",
   "execution_count": 100,
   "metadata": {},
   "outputs": [],
   "source": [
    "from sklearn import preprocessing\n",
    "\n",
    "lab_enc = preprocessing.LabelEncoder()\n"
   ]
  },
  {
   "cell_type": "code",
   "execution_count": 101,
   "metadata": {},
   "outputs": [],
   "source": [
    "lab_enc = preprocessing.LabelEncoder()"
   ]
  },
  {
   "cell_type": "code",
   "execution_count": 102,
   "metadata": {},
   "outputs": [
    {
     "name": "stdout",
     "output_type": "stream",
     "text": [
      "Column Sex has been encoded\n",
      "Column Embarked has been encoded\n",
      "Column Single_Traveller has been encoded\n",
      "Column Person has been encoded\n"
     ]
    }
   ],
   "source": [
    "col = []\n",
    "for c in train_df.columns:\n",
    "    if train_df[c].dtypes=='object':\n",
    "        train_df[c] = lab_enc.fit_transform(train_df[c])\n",
    "        print(\"Column {} has been encoded\".format(c))"
   ]
  },
  {
   "cell_type": "code",
   "execution_count": 103,
   "metadata": {},
   "outputs": [
    {
     "name": "stdout",
     "output_type": "stream",
     "text": [
      "Column Sex has been encoded\n",
      "Column Embarked has been encoded\n",
      "Column Single_Traveller has been encoded\n",
      "Column Person has been encoded\n"
     ]
    }
   ],
   "source": [
    "col = []\n",
    "for c in test_df.columns:\n",
    "    if test_df[c].dtypes=='object':\n",
    "        test_df[c] = lab_enc.fit_transform(test_df[c])\n",
    "        print(\"Column {} has been encoded\".format(c))"
   ]
  },
  {
   "cell_type": "code",
   "execution_count": 104,
   "metadata": {},
   "outputs": [],
   "source": [
    "X = train_df.drop(['Survived','PassengerId'],axis=1)\n",
    "X_id = train_df['PassengerId']\n",
    "y = train_df['Survived']"
   ]
  },
  {
   "cell_type": "code",
   "execution_count": 105,
   "metadata": {},
   "outputs": [],
   "source": [
    "from imblearn.combine import SMOTETomek\n",
    "smk = SMOTETomek(random_state=1)\n",
    "X_res,y_res=smk.fit_sample(X,y)"
   ]
  },
  {
   "cell_type": "code",
   "execution_count": 106,
   "metadata": {},
   "outputs": [],
   "source": [
    "X_trainval, X_test, y_trainval, y_test = train_test_split(X_res,y_res, test_size=0.20,random_state=1)\n",
    "X_train, X_val, y_train, y_val = train_test_split(X_trainval,y_trainval, test_size=0.20,random_state=1)"
   ]
  },
  {
   "cell_type": "code",
   "execution_count": 107,
   "metadata": {},
   "outputs": [],
   "source": [
    "X_trainval_z =X_trainval.apply(zscore)\n",
    "X_train_z =X_train.apply(zscore)\n",
    "X_val_z =X_val.apply(zscore)\n",
    "X_test_z =X_test.apply(zscore)\n",
    "X_z = X_res.apply(zscore)"
   ]
  },
  {
   "cell_type": "code",
   "execution_count": 108,
   "metadata": {},
   "outputs": [],
   "source": [
    "# Grid Search based on Max_features, Min_Samples_Split and Max_Depth\n",
    "param_grid = [\n",
    "{\n",
    "'n_neighbors': list(range(1,50)),\n",
    "'algorithm': ['auto', 'ball_tree', 'kd_tree','brute'],\n",
    "'leaf_size': [10,15,20,30],\n",
    "'n_jobs': [-1], \n",
    "'weights' : ['uniform','distance']\n",
    "}\n",
    "]"
   ]
  },
  {
   "cell_type": "code",
   "execution_count": 109,
   "metadata": {},
   "outputs": [
    {
     "data": {
      "text/plain": [
       "GridSearchCV(cv=3, error_score=nan,\n",
       "             estimator=KNeighborsClassifier(algorithm='auto', leaf_size=30,\n",
       "                                            metric='minkowski',\n",
       "                                            metric_params=None, n_jobs=None,\n",
       "                                            n_neighbors=5, p=2,\n",
       "                                            weights='uniform'),\n",
       "             iid='deprecated', n_jobs=4,\n",
       "             param_grid=[{'algorithm': ['auto', 'ball_tree', 'kd_tree',\n",
       "                                        'brute'],\n",
       "                          'leaf_size': [10, 15, 20, 30], 'n_jobs': [-1],\n",
       "                          'n_neighbors': [1, 2, 3, 4, 5, 6, 7, 8, 9, 10, 11, 12,\n",
       "                                          13, 14, 15, 16, 17, 18, 19, 20, 21,\n",
       "                                          22, 23, 24, 25, 26, 27, 28, 29, 30, ...],\n",
       "                          'weights': ['uniform', 'distance']}],\n",
       "             pre_dispatch='2*n_jobs', refit=True, return_train_score=False,\n",
       "             scoring='accuracy', verbose=0)"
      ]
     },
     "execution_count": 109,
     "metadata": {},
     "output_type": "execute_result"
    }
   ],
   "source": [
    "import multiprocessing\n",
    "gs = GridSearchCV(estimator=KNeighborsClassifier(), param_grid=param_grid, scoring='accuracy', n_jobs=multiprocessing.cpu_count(),cv=3)\n",
    "gs.fit(X_train_z, y_train)"
   ]
  },
  {
   "cell_type": "code",
   "execution_count": 110,
   "metadata": {},
   "outputs": [
    {
     "data": {
      "text/plain": [
       "KNeighborsClassifier(algorithm='auto', leaf_size=10, metric='minkowski',\n",
       "                     metric_params=None, n_jobs=-1, n_neighbors=5, p=2,\n",
       "                     weights='uniform')"
      ]
     },
     "execution_count": 110,
     "metadata": {},
     "output_type": "execute_result"
    }
   ],
   "source": [
    "gs.best_estimator_"
   ]
  },
  {
   "cell_type": "code",
   "execution_count": 111,
   "metadata": {},
   "outputs": [
    {
     "data": {
      "text/plain": [
       "0.8436261843238587"
      ]
     },
     "execution_count": 111,
     "metadata": {},
     "output_type": "execute_result"
    }
   ],
   "source": [
    "gs.best_score_"
   ]
  },
  {
   "cell_type": "code",
   "execution_count": 112,
   "metadata": {},
   "outputs": [],
   "source": [
    "knn_clfr = KNeighborsClassifier(algorithm='auto', leaf_size=10, metric='minkowski',\n",
    "                     metric_params=None, n_jobs=-1, n_neighbors=5, p=2,\n",
    "                     weights='uniform')"
   ]
  },
  {
   "cell_type": "code",
   "execution_count": 113,
   "metadata": {},
   "outputs": [
    {
     "data": {
      "text/plain": [
       "(891, 11)"
      ]
     },
     "execution_count": 113,
     "metadata": {},
     "output_type": "execute_result"
    }
   ],
   "source": [
    "train_df.shape"
   ]
  },
  {
   "cell_type": "code",
   "execution_count": 114,
   "metadata": {},
   "outputs": [],
   "source": [
    "sfs1 = sfs(knn_clfr, k_features=6, forward=True, scoring='accuracy', cv=10,n_jobs=-1)"
   ]
  },
  {
   "cell_type": "code",
   "execution_count": 115,
   "metadata": {},
   "outputs": [],
   "source": [
    "sfs1 = sfs1.fit(X_train_z.values, y_train.values)"
   ]
  },
  {
   "cell_type": "code",
   "execution_count": 116,
   "metadata": {},
   "outputs": [
    {
     "data": {
      "text/plain": [
       "{1: {'feature_idx': (1,),\n",
       "  'cv_scores': array([0.47692308, 0.90769231, 0.76923077, 0.84615385, 0.75384615,\n",
       "         0.76923077, 0.75      , 0.8125    , 0.84375   , 0.78125   ]),\n",
       "  'avg_score': 0.7710576923076923,\n",
       "  'feature_names': ('1',),\n",
       "  'ci_bound': 0.08090986874494639,\n",
       "  'std_dev': 0.10893827645471116,\n",
       "  'std_err': 0.03631275881823705},\n",
       " 2: {'feature_idx': (1, 2),\n",
       "  'cv_scores': array([0.75384615, 0.87692308, 0.75384615, 0.84615385, 0.8       ,\n",
       "         0.76923077, 0.796875  , 0.8125    , 0.8125    , 0.84375   ]),\n",
       "  'avg_score': 0.8065625000000001,\n",
       "  'feature_names': ('1', '2'),\n",
       "  'ci_bound': 0.02882271931280764,\n",
       "  'std_dev': 0.038807347155303575,\n",
       "  'std_err': 0.01293578238510119},\n",
       " 3: {'feature_idx': (0, 1, 2),\n",
       "  'cv_scores': array([0.81538462, 0.84615385, 0.8       , 0.84615385, 0.83076923,\n",
       "         0.73846154, 0.796875  , 0.84375   , 0.828125  , 0.875     ]),\n",
       "  'avg_score': 0.8220673076923077,\n",
       "  'feature_names': ('0', '1', '2'),\n",
       "  'ci_bound': 0.026469097831268495,\n",
       "  'std_dev': 0.035638395436522384,\n",
       "  'std_err': 0.01187946514550746},\n",
       " 4: {'feature_idx': (0, 1, 2, 5),\n",
       "  'cv_scores': array([0.84615385, 0.86153846, 0.70769231, 0.90769231, 0.86153846,\n",
       "         0.78461538, 0.859375  , 0.84375   , 0.78125   , 0.84375   ]),\n",
       "  'avg_score': 0.829735576923077,\n",
       "  'feature_names': ('0', '1', '2', '5'),\n",
       "  'ci_bound': 0.039942633194082984,\n",
       "  'std_dev': 0.053779368137930814,\n",
       "  'std_err': 0.017926456045976938},\n",
       " 5: {'feature_idx': (0, 1, 2, 5, 7),\n",
       "  'cv_scores': array([0.86153846, 0.87692308, 0.72307692, 0.90769231, 0.86153846,\n",
       "         0.8       , 0.890625  , 0.8125    , 0.84375   , 0.8125    ]),\n",
       "  'avg_score': 0.8390144230769231,\n",
       "  'feature_names': ('0', '1', '2', '5', '7'),\n",
       "  'ci_bound': 0.03803395108869393,\n",
       "  'std_dev': 0.05120948955468296,\n",
       "  'std_err': 0.017069829851560987},\n",
       " 6: {'feature_idx': (0, 1, 2, 5, 7, 8),\n",
       "  'cv_scores': array([0.86153846, 0.87692308, 0.72307692, 0.90769231, 0.87692308,\n",
       "         0.8       , 0.875     , 0.84375   , 0.859375  , 0.8125    ]),\n",
       "  'avg_score': 0.8436778846153846,\n",
       "  'feature_names': ('0', '1', '2', '5', '7', '8'),\n",
       "  'ci_bound': 0.037342453302863975,\n",
       "  'std_dev': 0.05027844643066023,\n",
       "  'std_err': 0.016759482143553408}}"
      ]
     },
     "execution_count": 116,
     "metadata": {},
     "output_type": "execute_result"
    }
   ],
   "source": [
    "sfs1.get_metric_dict()"
   ]
  },
  {
   "cell_type": "code",
   "execution_count": 117,
   "metadata": {},
   "outputs": [
    {
     "name": "stdout",
     "output_type": "stream",
     "text": [
      "[0, 1, 2, 5, 7, 8]\n"
     ]
    }
   ],
   "source": [
    "columnList = list(X_train_z.columns)\n",
    "feat_cols = list(sfs1.k_feature_idx_)\n",
    "print(feat_cols)"
   ]
  },
  {
   "cell_type": "code",
   "execution_count": 118,
   "metadata": {},
   "outputs": [
    {
     "name": "stdout",
     "output_type": "stream",
     "text": [
      "['Pclass', 'Sex', 'Age', 'Fare', 'Single_Traveller', 'Person']\n"
     ]
    }
   ],
   "source": [
    "subsetColumnList = [columnList[i] for i in feat_cols] \n",
    "print(subsetColumnList)"
   ]
  },
  {
   "cell_type": "code",
   "execution_count": 119,
   "metadata": {},
   "outputs": [
    {
     "data": {
      "text/html": [
       "<div>\n",
       "<style scoped>\n",
       "    .dataframe tbody tr th:only-of-type {\n",
       "        vertical-align: middle;\n",
       "    }\n",
       "\n",
       "    .dataframe tbody tr th {\n",
       "        vertical-align: top;\n",
       "    }\n",
       "\n",
       "    .dataframe thead th {\n",
       "        text-align: right;\n",
       "    }\n",
       "</style>\n",
       "<table border=\"1\" class=\"dataframe\">\n",
       "  <thead>\n",
       "    <tr style=\"text-align: right;\">\n",
       "      <th></th>\n",
       "      <th>PassengerId</th>\n",
       "      <th>Survived</th>\n",
       "      <th>Pclass</th>\n",
       "      <th>Sex</th>\n",
       "      <th>Age</th>\n",
       "      <th>SibSp</th>\n",
       "      <th>Parch</th>\n",
       "      <th>Fare</th>\n",
       "      <th>Embarked</th>\n",
       "      <th>Single_Traveller</th>\n",
       "      <th>Person</th>\n",
       "    </tr>\n",
       "  </thead>\n",
       "  <tbody>\n",
       "    <tr>\n",
       "      <th>0</th>\n",
       "      <td>1</td>\n",
       "      <td>0</td>\n",
       "      <td>3</td>\n",
       "      <td>1</td>\n",
       "      <td>22.0</td>\n",
       "      <td>1</td>\n",
       "      <td>0</td>\n",
       "      <td>7.25</td>\n",
       "      <td>2</td>\n",
       "      <td>0</td>\n",
       "      <td>4</td>\n",
       "    </tr>\n",
       "  </tbody>\n",
       "</table>\n",
       "</div>"
      ],
      "text/plain": [
       "   PassengerId  Survived  Pclass  Sex   Age  SibSp  Parch  Fare  Embarked  \\\n",
       "0            1         0       3    1  22.0      1      0  7.25         2   \n",
       "\n",
       "   Single_Traveller  Person  \n",
       "0                 0       4  "
      ]
     },
     "execution_count": 119,
     "metadata": {},
     "output_type": "execute_result"
    }
   ],
   "source": [
    "train_df.head(1)"
   ]
  },
  {
   "cell_type": "code",
   "execution_count": 120,
   "metadata": {},
   "outputs": [],
   "source": [
    "train_df_bkp = train_df.copy()\n",
    "test_df_bkp = test_df.copy()"
   ]
  },
  {
   "cell_type": "code",
   "execution_count": 121,
   "metadata": {},
   "outputs": [],
   "source": [
    "X_knn = train_df[['Pclass', 'Sex', 'Age', 'Fare', 'Single_Traveller', 'Person']]\n",
    "X_id_knn = train_df['PassengerId']\n",
    "y_knn = train_df['Survived']"
   ]
  },
  {
   "cell_type": "code",
   "execution_count": 122,
   "metadata": {},
   "outputs": [],
   "source": [
    "from imblearn.combine import SMOTETomek\n",
    "smk = SMOTETomek(random_state=1)\n",
    "X_res,y_res=smk.fit_sample(X_knn,y_knn)"
   ]
  },
  {
   "cell_type": "code",
   "execution_count": 123,
   "metadata": {},
   "outputs": [],
   "source": [
    "X_trainval_knn, X_test_knn, y_trainval_knn, y_test_knn = train_test_split(X_res,y_res, test_size=0.20,random_state=1)\n",
    "X_train_knn, X_val_knn, y_train_knn, y_val_knn = train_test_split(X_trainval_knn,y_trainval_knn, test_size=0.20,random_state=1)"
   ]
  },
  {
   "cell_type": "code",
   "execution_count": 124,
   "metadata": {},
   "outputs": [],
   "source": [
    "X_trainval_z_knn =X_trainval_knn.apply(zscore)\n",
    "X_train_z_knn =X_train_knn.apply(zscore)\n",
    "X_val_z_knn =X_val_knn.apply(zscore)\n",
    "X_test_z_knn =X_test_knn.apply(zscore)\n",
    "X_z_knn = X_res.apply(zscore)"
   ]
  },
  {
   "cell_type": "code",
   "execution_count": null,
   "metadata": {},
   "outputs": [],
   "source": []
  }
 ],
 "metadata": {
  "kernelspec": {
   "display_name": "Python 3",
   "language": "python",
   "name": "python3"
  },
  "language_info": {
   "codemirror_mode": {
    "name": "ipython",
    "version": 3
   },
   "file_extension": ".py",
   "mimetype": "text/x-python",
   "name": "python",
   "nbconvert_exporter": "python",
   "pygments_lexer": "ipython3",
   "version": "3.7.6"
  }
 },
 "nbformat": 4,
 "nbformat_minor": 4
}
